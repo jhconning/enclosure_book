{
 "cells": [
  {
   "cell_type": "markdown",
   "metadata": {
    "slideshow": {
     "slide_type": "slide"
    }
   },
   "source": [
    "# A Model of Enclosures\n",
    "## Coordination, Efficiency, and Conflict\n",
    "\n",
    "\n",
    "Matthew J. Baker\n",
    "\n",
    "Jonathan Conning\n",
    " "
   ]
  },
  {
   "cell_type": "code",
   "execution_count": 1,
   "metadata": {
    "slideshow": {
     "slide_type": "skip"
    },
    "tags": [
     "hide-input"
    ]
   },
   "outputs": [],
   "source": [
    "%load_ext autoreload\n",
    "%autoreload 2"
   ]
  },
  {
   "cell_type": "code",
   "execution_count": 2,
   "metadata": {
    "slideshow": {
     "slide_type": "skip"
    },
    "tags": []
   },
   "outputs": [],
   "source": [
    "from enclose import *"
   ]
  },
  {
   "cell_type": "code",
   "execution_count": 3,
   "metadata": {
    "slideshow": {
     "slide_type": "skip"
    },
    "tags": [
     "hide-input"
    ]
   },
   "outputs": [],
   "source": [
    "from ipywidgets import interact, interact_manual, fixed"
   ]
  },
  {
   "cell_type": "markdown",
   "metadata": {
    "slideshow": {
     "slide_type": "slide"
    }
   },
   "source": [
    "### Model \n",
    "- $\\bar L$ total labor supply\n",
    "- $\\bar T$ total land supply\n",
    "- $T_e$ total enclosed land.  \n",
    "- $t_e=\\frac{T_e}{\\bar T}$ share of land enclosed "
   ]
  },
  {
   "cell_type": "markdown",
   "metadata": {
    "slideshow": {
     "slide_type": "slide"
    }
   },
   "source": [
    "### Production\n",
    "\n",
    "On unenclosed land: \n",
    "$$F(T,L) = T^{1-\\alpha}L^\\alpha$$\n",
    "\n",
    "On enclosed land:\n",
    "$$G(T,L) = \\theta \\cdot F(T,L)$$"
   ]
  },
  {
   "cell_type": "markdown",
   "metadata": {
    "slideshow": {
     "slide_type": "fragment"
    }
   },
   "source": [
    "If $\\theta>1$ then enclosure facilitates adoption of higher productivity technologies."
   ]
  },
  {
   "cell_type": "markdown",
   "metadata": {
    "slideshow": {
     "slide_type": "fragment"
    }
   },
   "source": [
    "$c$ unit cost of enclosing land. The cost of enclosing $T_e$ units of land is $c\\cdot T_e$."
   ]
  },
  {
   "cell_type": "markdown",
   "metadata": {
    "slideshow": {
     "slide_type": "fragment"
    }
   },
   "source": [
    "**Manufacturing sector (optional)**\n",
    "  - $H(\\bar K, L_m)=\\bar K^\\beta L_m^{1-\\beta}$,  CRS production.\n",
    "  - Normalize $P_m = 1$, $p=\\frac{P_a}{P_m}$ is relative price of agricultural goods.\n",
    "  - Firms maximize profits, so labor demand given by:   $w_F = MPL_M(\\bar K, L_M)$, which implies downward sloping demand for manufacturing labor, $L_M^D(w)$."
   ]
  },
  {
   "cell_type": "markdown",
   "metadata": {
    "slideshow": {
     "slide_type": "fragment"
    }
   },
   "source": [
    "- Upward sloping supply of labor to agriculture: $L_A^S(w) = \\bar L - L_M^D(w)$"
   ]
  },
  {
   "cell_type": "markdown",
   "metadata": {
    "slideshow": {
     "slide_type": "slide"
    }
   },
   "source": [
    "### Communal land use-rights interpretation\n",
    "\n",
    "- By Euler's Theorem and linear homogeneity of $F(T_i, L_i)$:\n",
    "\n",
    "$$F(T,L) =  F_L \\cdot L + F_T \\cdot T$$"
   ]
  },
  {
   "cell_type": "markdown",
   "metadata": {
    "slideshow": {
     "slide_type": "fragment"
    }
   },
   "source": [
    "- divide by $L$"
   ]
  },
  {
   "cell_type": "markdown",
   "metadata": {
    "slideshow": {
     "slide_type": "fragment"
    }
   },
   "source": [
    "$$\\frac{F(T,L)}{L} = F_L +  F_T \\cdot \\frac{T}{L}$$"
   ]
  },
  {
   "cell_type": "markdown",
   "metadata": {
    "slideshow": {
     "slide_type": "slide"
    }
   },
   "source": [
    "- Assume competitive markets in the unenclosed peasant subeconomy:\n",
    "   - $w_c = P_a \\cdot F_L$\n",
    "   - $r_c = P_a \\cdot F_t$"
   ]
  },
  {
   "cell_type": "markdown",
   "metadata": {
    "slideshow": {
     "slide_type": "fragment"
    }
   },
   "source": [
    "So we can write the value average product as:\n",
    "\n",
    "$$p\\cdot APL = w_c + r_c \\cdot \\frac{T}{L}$$\n",
    "\n",
    "We can give a 'tenure insecurity' interpretation to this, namely that the worker stays in the customary sector to protect the value of land rents $r_c \\cdot \\frac{T_c}{L_c}$ plus whatever is the going wage in that sector $w_c$"
   ]
  },
  {
   "cell_type": "markdown",
   "metadata": {},
   "source": [
    "## Labor Market equilibrium\n",
    "\n",
    "$$MPL_c < APL_c = MPL_e < APL_m$$\n",
    "\n",
    "Hence we find misallocation $MPL_c<MPL_e$ with 'too much labor' (sometimes associated with a 'tragedy' of overuse) in the agricultural sector as well as an average productivity gap  ($APL_c < APL_m$)."
   ]
  },
  {
   "cell_type": "markdown",
   "metadata": {
    "slideshow": {
     "slide_type": "slide"
    }
   },
   "source": [
    "### The Enclosure decision\n",
    "\n",
    "- Every piece of land has a potential 'owner-claimant.'\n",
    "  - If they pay enclosure cost $c$ they can exclude all workers from the site.\n",
    "  - Then hire workers to maximize profits:  $\\theta \\cdot F_L(T_i, L_i) = w_F$\n",
    "  - Profits equivalent to rent on now enclosed land.\n",
    "     - profitable to enclose if $r(t_e) > c$\n"
   ]
  },
  {
   "cell_type": "markdown",
   "metadata": {
    "slideshow": {
     "slide_type": "subslide"
    }
   },
   "source": [
    "- Since encloser faces wage $w_F= p\\cdot APL > p\\cdot MPL$ \n",
    "   - hires fewer workers than were used under free access \n",
    "   - spillover: those released workers go 'crowd' remaining open access areas\n",
    "- Spillovers, strategic complementarities, multiple Nash equilibria:\n",
    "   - Nobody encloses (and not profitable to deviate)\n",
    "   - Everybody encloses (and not profitable to deviate)"
   ]
  },
  {
   "cell_type": "markdown",
   "metadata": {
    "slideshow": {
     "slide_type": "slide"
    }
   },
   "source": [
    "## The model\n",
    "\n",
    "- Assume at first a purely agricultural economy\n",
    "\n",
    "- $T_e, L_e$  -- Amount of land enclosed, Ag. labor working on enclosed land.\n",
    "\n",
    "- $t_e = \\frac{T_e}{\\bar T}$  -- fraction of land enclosed"
   ]
  },
  {
   "cell_type": "markdown",
   "metadata": {
    "slideshow": {
     "slide_type": "subslide"
    }
   },
   "source": [
    "### A useful decomposition\n",
    "$$\n",
    "\\begin{align*}\n",
    "    G(T_{e},L_{e}) &=t_e^{1-\\alpha} \\bar l_e ^{\\alpha} \\cdot \\theta \\bar T^{1-\\alpha} \\bar L ^{\\alpha}\\\\\n",
    "&=t_e^{1-\\alpha} \\bar l_e ^{\\alpha} \\cdot \\theta F(\\bar T, \\bar L) \\\\\n",
    "&=F(t_e,l_e)\\cdot \\theta F(\\bar T, \\bar L)\n",
    "\\end{align*}\n",
    "$$"
   ]
  },
  {
   "cell_type": "markdown",
   "metadata": {
    "slideshow": {
     "slide_type": "fragment"
    }
   },
   "source": [
    "$F(t_e, l_e)$ tell us fraction of *potential* output for given land/labor enclosure $(t_e, l_e$)"
   ]
  },
  {
   "cell_type": "markdown",
   "metadata": {
    "slideshow": {
     "slide_type": "subslide"
    }
   },
   "source": [
    "## Optimal Enclosures  -- The Planner's problem\n",
    "\n",
    "- Enclosure is costly so it is only worthwhile where the benefit from higher output/productivity compensates for the cost.  The planner sets out to find the enclosure rate and land and labor allocations that maximize total benefits net of total costs:\n",
    "\n",
    "$$\n",
    "\\max_{t_e,l_e} Y = \\left[\\theta \\cdot F(t_e,l_e)+F(1-t_e,1-l_e) \\right ] \\cdot F(\\bar T, \\bar L) -cTt_e\n",
    "$$"
   ]
  },
  {
   "cell_type": "markdown",
   "metadata": {
    "slideshow": {
     "slide_type": "fragment"
    }
   },
   "source": [
    "**FOC:**\n",
    "$$MPL_e = MPLc$$"
   ]
  },
  {
   "cell_type": "markdown",
   "metadata": {
    "slideshow": {
     "slide_type": "subslide"
    }
   },
   "source": [
    "**FOC:**\n",
    "\n",
    "$$\\theta \\left ( \\frac{t_e}{l_e} \\right ) ^{1-\\alpha} =  \\left ( \\frac{1-t_e}{1-l_e} \\right ) ^{1-\\alpha}$$\n"
   ]
  },
  {
   "cell_type": "markdown",
   "metadata": {
    "slideshow": {
     "slide_type": "fragment"
    }
   },
   "source": [
    "At any level of $t_e$ we can solve for the optimal labor across the enclosed and unenclosed sectors: \n",
    "\n",
    "$$l_e^o(t_e) = \\frac{\\Lambda^ot_e}{1+(\\Lambda^o-1)t_e}, \\text{  where }\\Lambda^o=\\theta^{\\frac{1}{1-\\alpha}}$$"
   ]
  },
  {
   "cell_type": "markdown",
   "metadata": {
    "slideshow": {
     "slide_type": "subslide"
    }
   },
   "source": [
    "- Note $\\Lambda^o=\\theta^{\\frac{1}{1-\\alpha}}>1$ as $\\theta>1$\n",
    "- If $\\theta = 1$ only way to equalize marginal products is via $t_e=l_e$\n",
    "- when $\\theta > 1$ then $l_e^o(t_e)$ is concave down\n"
   ]
  },
  {
   "cell_type": "markdown",
   "metadata": {
    "slideshow": {
     "slide_type": "fragment"
    }
   },
   "source": [
    "- Note that when $\\theta>1$, $l_e \\ge t_e$\n",
    "  - it is efficient to **operate enclosed lands in more labor-intensive ways**"
   ]
  },
  {
   "cell_type": "markdown",
   "metadata": {
    "slideshow": {
     "slide_type": "fragment"
    }
   },
   "source": [
    "- Will soon show that (for $1<\\theta<\\frac{1}{\\alpha}$) private enclosers have incentive to operate enclosed lands in *less* labor intensive ways than unenclosed lands!"
   ]
  },
  {
   "cell_type": "code",
   "execution_count": 4,
   "metadata": {},
   "outputs": [
    {
     "data": {
      "image/png": "[encoded data removed]",
      "text/plain": [
       "<Figure size 504x504 with 1 Axes>"
      ]
     },
     "metadata": {
      "needs_background": "light"
     },
     "output_type": "display_data"
    }
   ],
   "source": [
    "plotle(te = 0.48, th = 1.5, alp = 0.5)"
   ]
  },
  {
   "cell_type": "code",
   "execution_count": 5,
   "metadata": {
    "slideshow": {
     "slide_type": "slide"
    }
   },
   "outputs": [
    {
     "data": {
      "application/vnd.jupyter.widget-view+json": {
       "model_id": "070d3fddc7cc444db01dbf38d9e8bc7b",
       "version_major": 2,
       "version_minor": 0
      },
      "text/plain": [
       "interactive(children=(FloatSlider(value=0.5, description='te', max=1.0, step=0.05), FloatSlider(value=1.0, des…"
      ]
     },
     "metadata": {},
     "output_type": "display_data"
    }
   ],
   "source": [
    "interact(plotle, te=(0,1,0.05), th=(0.5, 3, 0.1), alp =(0.2, 0.8, 0.05));"
   ]
  },
  {
   "cell_type": "markdown",
   "metadata": {
    "slideshow": {
     "slide_type": "subslide"
    }
   },
   "source": [
    "### Planner Optimal enclosure rate $t_e$\n",
    "\n",
    "We can write\n",
    "\n",
    "$$\n",
    "Y(t_e) = \\left[\\theta \\cdot F(t_e,l_e)+F(1-t_e,1-l_e) \\right ] \\cdot F(\\bar T, \\bar L) -cTt_e\n",
    "$$\n",
    "\n",
    "We will study output net of enclosure costs per unit land: $z(t_e) = \\frac{Y(t_e)}{\\bar T}$\n",
    "\n",
    "Note that  $\\frac{F(\\bar T, \\bar L)}{\\bar T} =  \\bar l^{\\alpha}$ where $\\bar l=\\frac{\\bar L}{\\bar T}$\n",
    "\n",
    "**Matt gets to:** \n",
    "$$z(t_e) = \\bar l^{\\alpha} \\cdot \\left[ 1+\\left(\\Lambda^o-1\\right)t_e\\right]^{1-\\alpha}-c  t_e$$"
   ]
  },
  {
   "cell_type": "markdown",
   "metadata": {
    "slideshow": {
     "slide_type": "subslide"
    }
   },
   "source": [
    "But I'm NOT getting that. Let's take it in steps. Step 1:\n",
    "\n",
    "$$z(t_e)= \\bar l^\\alpha  \\cdot  \\left [\\theta t_e^{1-\\alpha}l_e^\\alpha + (1-t_e)^{1-\\alpha}(1-l_e)^{\\alpha}    \\right ] - ct_e$$ \n",
    "\n",
    "let's break this into pieces like so:\n",
    "\n",
    "$$z(t_e)= \\bar l^\\alpha  \\cdot  \\left [A + B   \\right ] - ct_e$$ \n",
    "\n",
    "Step 2, substitute in our expression for $l_e(t_e)$ and note that first term in brackets above is:\n",
    "\n",
    "$$\n",
    "A = \\theta t_e^{1-\\alpha}l_e^\\alpha = \\theta t_e^{1-\\alpha} \\left (\\frac{\\Lambda^o t_e}{1+(\\Lambda^o-1)t_e}  \\right )^\\alpha \n",
    "= \\frac{\\theta t_e \\cdot (\\Lambda^o)^\\alpha}{(1+(\\Lambda^o-1)t_e)^\\alpha} \n",
    "$$\n",
    "and likewise\n",
    "$$\n",
    "\\begin{aligned}\n",
    "B = (1-t_e)^{1-\\alpha}(1-l_e)^{\\alpha} &= (1-t_e)^{1-\\alpha} \\left( 1 -\\frac{\\Lambda^o t_e}{1+(\\Lambda^o-1)t_e} \\right )^{\\alpha} \\\\\n",
    "\\end{aligned}\n",
    "$$"
   ]
  },
  {
   "cell_type": "markdown",
   "metadata": {},
   "source": [
    "Note the last term on the right can be written:\n",
    "$$\n",
    "\\left( \\frac{1+(\\Lambda^o-1)t_e - \\Lambda^o t_e}{1+(\\Lambda^o-1)t_e} \\right )^\\alpha = \\left ( \\frac{1-t_e}{(1+(\\Lambda^o-1)t_e)^\\alpha} \\right )^\\alpha\n",
    "$$\n",
    "\n",
    "And hence \n",
    "\n",
    "$$\n",
    "B = (1-t_e)^{1-\\alpha}(1-l_e)^{\\alpha} = (1-t_e)  \\cdot \\frac{1}{(1+(\\Lambda^o-1)t_e)^\\alpha}\n",
    "$$"
   ]
  },
  {
   "cell_type": "markdown",
   "metadata": {},
   "source": [
    "Now if the numerator in A were $t_e \\Lambda^o$ and not  $\\theta t_e (\\Lambda^o)^\\alpha$  then Matt's expression would be correct.  But I don't see how that is the case."
   ]
  },
  {
   "cell_type": "markdown",
   "metadata": {
    "slideshow": {
     "slide_type": "subslide"
    }
   },
   "source": [
    "So we have:\n",
    "\n",
    "$$\n",
    "z(t_e) = \\bar l^\\alpha  \\cdot  \\left [ \\frac{(1\\theta (\\Lambda^o)^\\alpha)t_e +1}{}    \\right ] \n",
    "$$"
   ]
  },
  {
   "cell_type": "markdown",
   "metadata": {
    "slideshow": {
     "slide_type": "subslide"
    }
   },
   "source": [
    "$$\n",
    "(1-t_e)^{1-\\alpha}(1-l_e)^{\\alpha} \n",
    "$$\n",
    "\n",
    "\n",
    "\n",
    "$$z(t_e)= \\bar l^\\alpha  \\cdot  \\left [\\theta t_e^{1-\\alpha}l_e^\\alpha + (1-t_e)^{1-\\alpha}(1-l_e)^{\\alpha}    \\right ] - ct_e$$ "
   ]
  },
  {
   "cell_type": "markdown",
   "metadata": {
    "slideshow": {
     "slide_type": "subslide"
    }
   },
   "source": [
    "$$z(t_e)= \\bar l^{\\alpha} \\cdot \\left[ 1+\\left(\\Lambda^o-1\\right)t_e\\right]^{1-\\alpha}-c  t_e$$\n",
    "    "
   ]
  },
  {
   "cell_type": "markdown",
   "metadata": {
    "slideshow": {
     "slide_type": "fragment"
    }
   },
   "source": [
    "$$z'(t_e)=(1-\\alpha)\\left(\\Lambda^o-1\\right) \\bar l ^{\\alpha}\\left[ \\left(\\Lambda^o-1\\right)t_e+1\\right]^{-\\alpha}-c$$\n",
    "\n",
    "If  $\\Lambda^o=\\theta^{\\frac{1}{1-\\alpha}} \\geq 1$, $z(t_e)$ is concave down in $t_e$."
   ]
  },
  {
   "cell_type": "markdown",
   "metadata": {
    "slideshow": {
     "slide_type": "fragment"
    }
   },
   "source": [
    "#### There are Three Cases\n",
    "The plots below draw $z(t_e) - c \\cdot t_e$"
   ]
  },
  {
   "cell_type": "code",
   "execution_count": 11,
   "metadata": {
    "tags": [
     "hide-input"
    ]
   },
   "outputs": [
    {
     "data": {
      "image/png": "[encoded data removed]",
      "text/plain": [
       "<Figure size 1080x360 with 3 Axes>"
      ]
     },
     "metadata": {
      "needs_background": "light"
     },
     "output_type": "display_data"
    }
   ],
   "source": [
    "f, (ax1, ax2, ax3) = plt.subplots(1, 3, sharex=True, figsize=(15,5))\n",
    "f.suptitle(r'$z(t_e)-c\\cdot t_e$', fontsize=16)\n",
    "ax1.set_title(r'Enclose None: $z(0)-c<0$')\n",
    "ax1.set_ylabel(r'$z(t_e)$')\n",
    "plotz2(ax=ax1, th = 1.5, alp=1/2, c=1, lbar=2)\n",
    "ax2.set_title(r'Partial: $z \\prime (0)-c>0$ and $z \\prime (1)-c<0$')\n",
    "plotz2(ax=ax2, th = 1.5, alp=1/2, c=1, lbar=4);\n",
    "ax3.set_title(r'Enclose All: $z \\prime (1)-c>0$')\n",
    "plotz2(ax=ax3, th = 1.5, alp=1/2, c=0.5, lbar=2);\n"
   ]
  },
  {
   "cell_type": "markdown",
   "metadata": {
    "slideshow": {
     "slide_type": "subslide"
    }
   },
   "source": [
    "### (1) Enclose None  ($z'(0)<0$)\n"
   ]
  },
  {
   "cell_type": "code",
   "execution_count": null,
   "metadata": {
    "slideshow": {
     "slide_type": "fragment"
    }
   },
   "outputs": [],
   "source": [
    "plotz(th = 1.6, alp=1/2, c=1, lbar=1)"
   ]
  },
  {
   "cell_type": "markdown",
   "metadata": {
    "slideshow": {
     "slide_type": "subslide"
    }
   },
   "source": [
    "### (2) Enclose all ($z'(1)>0$)"
   ]
  },
  {
   "cell_type": "code",
   "execution_count": null,
   "metadata": {
    "slideshow": {
     "slide_type": "fragment"
    }
   },
   "outputs": [],
   "source": [
    "plotz(th = 1.8, alp=1/2, c=1, lbar=4)"
   ]
  },
  {
   "cell_type": "markdown",
   "metadata": {
    "slideshow": {
     "slide_type": "subslide"
    }
   },
   "source": [
    "**(1) Efficent No Enclosure:**  if $z'(0)<0$ then  $z(t_e)$ curve is everywhere downward sloping.  \n",
    "$$\\bar l \\le \\left[\\frac{c}{(1-\\alpha)\\left(\\Lambda^o-1\\right)}\\right]^{\\frac{1}{\\alpha}}=l_0^o(c,\\theta)$$\n",
    "\n",
    "**(1) Efficent No Enclosure:**  if $z'(0)<0$ then  $z(t_e)$ curve is everywhere downward sloping.  "
   ]
  },
  {
   "cell_type": "markdown",
   "metadata": {
    "slideshow": {
     "slide_type": "subslide"
    }
   },
   "source": [
    "### Partial enclosure $z'(0)>0$ and $z'(1)<0$ "
   ]
  },
  {
   "cell_type": "code",
   "execution_count": null,
   "metadata": {
    "slideshow": {
     "slide_type": "fragment"
    }
   },
   "outputs": [],
   "source": [
    "plotz(th = 1.7, alp=1/2, c=1, lbar=2)"
   ]
  },
  {
   "cell_type": "markdown",
   "metadata": {},
   "source": [
    "A widget to see how $z(t_e)$ changes with parameter values:"
   ]
  },
  {
   "cell_type": "code",
   "execution_count": null,
   "metadata": {},
   "outputs": [],
   "source": [
    "interact(plotz, th=(0.5,2,0.1), alp=(0.2,0.8,0.1), c=(0,3,0.1), lbar = (1,3,0.1));"
   ]
  },
  {
   "cell_type": "markdown",
   "metadata": {
    "slideshow": {
     "slide_type": "slide"
    }
   },
   "source": [
    "## Optimal Enclosure in $\\theta - \\bar l$ parameter space \n",
    "- $\\theta$ expected productivity gain\n",
    "- $\\bar l = \\frac{\\bar L}{\\bar T}$ population density\n",
    "\n",
    "**(1) Boundary of No Enclosure Optimum:**  $\\bar l \\le \\left[\\frac{c}{(1-\\alpha)\\left(\\Lambda^o-1\\right)}\\right]^{\\frac{1}{\\alpha}}=l_0^o(c,\\theta)$\n"
   ]
  },
  {
   "cell_type": "markdown",
   "metadata": {
    "slideshow": {
     "slide_type": "fragment"
    }
   },
   "source": [
    "**(2) Boundary of Full Enclosure Optimum:** $\\bar l \\le \\left[\\frac{c}{(1-\\alpha)\\left(\\Lambda^o-1\\right)}\\right]^{\\frac{1}{\\alpha}}=l_1^o(c,\\theta)$"
   ]
  },
  {
   "cell_type": "markdown",
   "metadata": {
    "slideshow": {
     "slide_type": "fragment"
    }
   },
   "source": [
    "**(1) Partial Enclosure Region:**  in between."
   ]
  },
  {
   "cell_type": "code",
   "execution_count": null,
   "metadata": {
    "slideshow": {
     "slide_type": "slide"
    }
   },
   "outputs": [],
   "source": [
    "socpart()"
   ]
  },
  {
   "cell_type": "code",
   "execution_count": null,
   "metadata": {},
   "outputs": [],
   "source": [
    "interact(socpart,c=(0.05,4,0.05), alp=(0.2,0.8,0.1), cond_plot=[True, False]);"
   ]
  },
  {
   "cell_type": "markdown",
   "metadata": {},
   "source": [
    "## Planner's second-best benchmark\n",
    "\n",
    "States and local authorities might be able to regulate the rate of enclosure \\(t_{e}\\), but it may be much harder to regulate labor movement between the sectors. For example  the government may designate an area such as a forest as protected but villagers or outsiders may still slip into the area to extract resources.  \n",
    "Accordingly, we ask: what is the second-best (or conditionally optimal) level of enclosure, when labor remains free \n"
   ]
  },
  {
   "cell_type": "markdown",
   "metadata": {
    "slideshow": {
     "slide_type": "fragment"
    }
   },
   "source": [
    "$$\\alpha\\theta\\left(\\frac{t_e}{l_e}\\right)^{1-\\alpha}\n",
    "=\\left(\\frac{1-t_e}{1-l_e}\\right)^{1-\\alpha}\n",
    "$$"
   ]
  },
  {
   "cell_type": "markdown",
   "metadata": {
    "slideshow": {
     "slide_type": "fragment"
    }
   },
   "source": [
    "Solve for private economy $l_e^*(t_e)$:"
   ]
  },
  {
   "cell_type": "markdown",
   "metadata": {
    "slideshow": {
     "slide_type": "subslide"
    }
   },
   "source": [
    "$$l_e^*(t_e) = \\frac{\\Lambda t_e}{1+(\\Lambda -1) t_e}$$\n",
    "\n",
    "where  \n",
    "\n",
    "\n",
    "$$\\Lambda=(\\alpha\\theta)^\\frac{1}{1-\\alpha}$$\n"
   ]
  },
  {
   "cell_type": "markdown",
   "metadata": {
    "slideshow": {
     "slide_type": "fragment"
    }
   },
   "source": [
    "Note this is different from the first-best where $\\Lambda^o = \\theta^\\frac{1}{1-\\alpha}$.  $l_e^*(t_e)$ is concave or convex depending on $\\Lambda \\lessgtr 1$ or $\\theta\\lessgtr \\frac{1}{\\alpha}$."
   ]
  },
  {
   "cell_type": "markdown",
   "metadata": {
    "slideshow": {
     "slide_type": "fragment"
    }
   },
   "source": [
    "Once again we can find boundaries.  Enclosure should begin if:\n",
    "$$l \\geq \\left[\\frac{\\alpha c}{(1-\\alpha)(\\Lambda(1+\\alpha)-\\alpha)}\\right]^\\frac{1}{\\alpha}=l_0^*$$\n",
    "\n",
    "enclosure should be complete if:\n",
    "\n",
    "$$ l \\geq \\left[\\frac{c}{(1-\\alpha)\\theta}\\right]^\\frac{1}{\\alpha}=l_1^*$$\n",
    "\n",
    "These regions are plotted above."
   ]
  },
  {
   "cell_type": "markdown",
   "metadata": {
    "slideshow": {
     "slide_type": "slide"
    }
   },
   "source": [
    "## Private decisions to enclose in a decentralized economy\n",
    "\n",
    "- Owner-claimants independently and simultaneously decide whether to enclose each unit of land.\n",
    "- Displaced labor moves to remaining unenclosed lands (or manufacturing) until\n",
    "\n",
    "$$p \\cdot MPL_e  = w = p \\cdot APL_C$$"
   ]
  },
  {
   "cell_type": "markdown",
   "metadata": {
    "slideshow": {
     "slide_type": "subslide"
    }
   },
   "source": [
    "## Private claimant encloses if \n",
    "\n",
    "$$r(t_e)=\\frac{1-\\alpha}{\\alpha}\\Lambda \\cdot \\bar l^{\\alpha}\n",
    "\\cdot(1+(\\Lambda -1)t_e)^{-\\alpha} \\ge c\n",
    "$$"
   ]
  },
  {
   "cell_type": "markdown",
   "metadata": {
    "slideshow": {
     "slide_type": "fragment"
    }
   },
   "source": [
    "### Low TFP gain case (i.e. $\\theta < \\frac{1}{\\alpha}$)\n",
    "- $r(t_e)$ is increasing in enclosure so long as $\\theta < \\frac{1}{\\alpha}$\n",
    "     - spillover across enclosers:  as each 'owner' encloses pushes labor off land, lowering wage, raising return to enclosure by others."
   ]
  },
  {
   "cell_type": "markdown",
   "metadata": {
    "slideshow": {
     "slide_type": "subslide"
    }
   },
   "source": [
    "Three parameter zones when $\\theta < \\frac{1}{\\alpha}$\n",
    "\n",
    "1. No private enclosure  $r(1)<c$\n",
    "2. Full private enclosure $r(0)>c$\n",
    "3. Multiple Equilibria (All enclose, None enclose)  $r(0)<c, r(1)>c$"
   ]
  },
  {
   "cell_type": "markdown",
   "metadata": {
    "slideshow": {
     "slide_type": "subslide"
    }
   },
   "source": [
    "#### 1. No private  enclosure $r(1)<c$\n",
    "(low population density$\\bar l$, low expected productivity gain $\\theta$, and/or high enclosure costs $c$)"
   ]
  },
  {
   "cell_type": "code",
   "execution_count": null,
   "metadata": {
    "slideshow": {
     "slide_type": "fragment"
    }
   },
   "outputs": [],
   "source": [
    "plotreq(th = 1, alp=1/2, tlbar=1, c=0.7, wplot=True)"
   ]
  },
  {
   "cell_type": "markdown",
   "metadata": {
    "slideshow": {
     "slide_type": "subslide"
    }
   },
   "source": [
    "#### 2.Full enclosure $r(0)>c$\n",
    "(high population density $\\bar l$ , high expected productivity gain $\\theta$ , and/or low enclosure costs $c$)"
   ]
  },
  {
   "cell_type": "code",
   "execution_count": null,
   "metadata": {
    "slideshow": {
     "slide_type": "fragment"
    }
   },
   "outputs": [],
   "source": [
    "plotreq(th = 1.25, alp=1/2, tlbar=1, c=0.35, wplot=False)"
   ]
  },
  {
   "cell_type": "markdown",
   "metadata": {
    "slideshow": {
     "slide_type": "subslide"
    }
   },
   "source": [
    "#### 3. Multiple Equilibria\n",
    "\n",
    "Two Nash Equilibria:\n",
    "\n",
    "- Nobody encloses\n",
    "- Everybody encloses"
   ]
  },
  {
   "cell_type": "code",
   "execution_count": null,
   "metadata": {
    "slideshow": {
     "slide_type": "fragment"
    }
   },
   "outputs": [],
   "source": [
    "plotreq(th = 1.3, alp=1/2, tlbar=1, c=0.5, wplot=False)"
   ]
  },
  {
   "cell_type": "code",
   "execution_count": null,
   "metadata": {
    "slideshow": {
     "slide_type": "subslide"
    }
   },
   "outputs": [],
   "source": [
    "interact(plotreq,th=(0.8,2.5,0.05), alp=(0.2,0.8,0.1), tlbar=(0.5,5,0.1), c=(0,4,0.05), wplot=[True, False]);"
   ]
  },
  {
   "cell_type": "markdown",
   "metadata": {
    "slideshow": {
     "slide_type": "slide"
    }
   },
   "source": [
    "## Private Enclosure as a Global Game\n"
   ]
  },
  {
   "cell_type": "markdown",
   "metadata": {
    "slideshow": {
     "slide_type": "slide"
    }
   },
   "source": [
    "Enclosure Zones in the private Economy"
   ]
  },
  {
   "cell_type": "code",
   "execution_count": null,
   "metadata": {
    "slideshow": {
     "slide_type": "fragment"
    }
   },
   "outputs": [],
   "source": [
    "prvpart()"
   ]
  },
  {
   "cell_type": "markdown",
   "metadata": {
    "slideshow": {
     "slide_type": "subslide"
    }
   },
   "source": [
    "### The Social Efficiency of Private Decisions to Enclose\n",
    "\n",
    "\n",
    "- Private enclosers compare only rental income (not total income) to the cost of enclosure. \n",
    "   - Furthermore part of gain in rental income is, in effect, 'theft'(redistribution) of land rights.\n",
    "\n",
    "- Three possibilities:"
   ]
  },
  {
   "cell_type": "markdown",
   "metadata": {
    "slideshow": {
     "slide_type": "fragment"
    }
   },
   "source": [
    "**1. Inefficiently High Enclosure**\n",
    "  - Situations where enclose more land than is efficient\n",
    "  - Strikingly, may enclose even when $\\theta < 1$     "
   ]
  },
  {
   "cell_type": "markdown",
   "metadata": {
    "slideshow": {
     "slide_type": "fragment"
    }
   },
   "source": [
    "**2. Inefficiently Low Enclosure**\n",
    "\n",
    "   - Situations where socially optimal to enclose but no enclosure, or not enough enclosure"
   ]
  },
  {
   "cell_type": "markdown",
   "metadata": {
    "slideshow": {
     "slide_type": "fragment"
    }
   },
   "source": [
    "**3. Efficient Enclosure**"
   ]
  },
  {
   "cell_type": "markdown",
   "metadata": {
    "slideshow": {
     "slide_type": "fragment"
    }
   },
   "source": [
    "![](./Figures/nash_so_comp.png)"
   ]
  },
  {
   "cell_type": "markdown",
   "metadata": {
    "slideshow": {
     "slide_type": "subslide"
    }
   },
   "source": [
    "### Enclosure by a monopoly claimant"
   ]
  },
  {
   "cell_type": "markdown",
   "metadata": {
    "slideshow": {
     "slide_type": "slide"
    }
   },
   "source": [
    "#### Adding a manufacturing sector"
   ]
  },
  {
   "cell_type": "markdown",
   "metadata": {
    "slideshow": {
     "slide_type": "fragment"
    }
   },
   "source": [
    "$$L_e + L_u = 1 - L_m$$"
   ]
  },
  {
   "cell_type": "markdown",
   "metadata": {
    "slideshow": {
     "slide_type": "fragment"
    }
   },
   "source": [
    "$$l_e + l_u = 1 - l_m$$"
   ]
  },
  {
   "cell_type": "markdown",
   "metadata": {
    "slideshow": {
     "slide_type": "fragment"
    }
   },
   "source": [
    "$$\n",
    "\\begin{aligned}\n",
    " G(\\bar K, L_m)  &= {\\bar K}^{1-\\beta}\\cdot L_m^\\beta \\\\\n",
    "   &=  l_m ^{\\beta} \\cdot G(\\bar K, \\bar L)\n",
    "\\end{aligned}\n",
    "$$"
   ]
  },
  {
   "cell_type": "markdown",
   "metadata": {
    "slideshow": {
     "slide_type": "slide"
    }
   },
   "source": [
    "#### Manufacturing labor demand\n",
    "\n",
    "$$MPL_m = \n",
    "\\beta \\cdot \\left ( \\frac{1}{l_m} \\right ) ^{1-\\beta} \\cdot  \\bar k^{1-\\beta} = w$$\n"
   ]
  },
  {
   "cell_type": "markdown",
   "metadata": {
    "slideshow": {
     "slide_type": "slide"
    }
   },
   "source": [
    "#### Value average product of labor in unenclosed agriculture\n",
    "\n",
    "$$\n",
    "\\begin{aligned}\n",
    "APL_u &= \\frac{F(t_u, l_u)}{l_e} \\cdot \\frac{F(\\bar T, \\bar L)}{\\bar L} \\\\\n",
    "   &=  \\left ( \\frac{1-t_e}{(1-l_m)-l_e} \\right ) ^{1-\\alpha} \\cdot  \\bar t^{1-\\alpha}\n",
    "\\end{aligned}\n",
    "$$"
   ]
  },
  {
   "cell_type": "markdown",
   "metadata": {
    "slideshow": {
     "slide_type": "fragment"
    }
   },
   "source": [
    "$$ MPL_m = w = MPL_e = APL_u>MPL_{u}$$"
   ]
  },
  {
   "cell_type": "markdown",
   "metadata": {
    "slideshow": {
     "slide_type": "fragment"
    }
   },
   "source": [
    "$$\n",
    "l_e^*(t_e) = \\frac{\\Lambda t_e }{(1-t_e+\\Lambda t_e)} \\cdot (1-l_m)  \n",
    "$$"
   ]
  },
  {
   "cell_type": "markdown",
   "metadata": {},
   "source": [
    "## Partition diagrams "
   ]
  },
  {
   "cell_type": "markdown",
   "metadata": {},
   "source": [
    "## Decentralized Enclosures"
   ]
  },
  {
   "cell_type": "code",
   "execution_count": null,
   "metadata": {},
   "outputs": [],
   "source": [
    "plt.figure(figsize=(8,6)) \n",
    "prvpart(full_diag = False)"
   ]
  },
  {
   "cell_type": "markdown",
   "metadata": {},
   "source": [
    "### Social versus Private"
   ]
  },
  {
   "cell_type": "code",
   "execution_count": null,
   "metadata": {},
   "outputs": [],
   "source": [
    "plt.figure(figsize=(10,8)) \n",
    "prvpart(full_diag = True)\n"
   ]
  },
  {
   "cell_type": "code",
   "execution_count": null,
   "metadata": {},
   "outputs": [],
   "source": [
    "interact(prvpart,c=(0.05,2.5,0.05), alp=(0.2,0.8,0.1), full_diag=[True, False], ax=fixed(None));"
   ]
  },
  {
   "cell_type": "code",
   "execution_count": null,
   "metadata": {},
   "outputs": [],
   "source": [
    "teopt(th=2, alp=1/2, c=1, lbar=2)"
   ]
  },
  {
   "cell_type": "code",
   "execution_count": null,
   "metadata": {},
   "outputs": [],
   "source": []
  }
 ],
 "metadata": {
  "celltoolbar": "Slideshow",
  "kernelspec": {
   "display_name": "Python 3",
   "language": "python",
   "name": "python3"
  },
  "language_info": {
   "codemirror_mode": {
    "name": "ipython",
    "version": 3
   },
   "file_extension": ".py",
   "mimetype": "text/x-python",
   "name": "python",
   "nbconvert_exporter": "python",
   "pygments_lexer": "ipython3",
   "version": "3.7.10"
  },
  "varInspector": {
   "cols": {
    "lenName": 16,
    "lenType": 16,
    "lenVar": 40
   },
   "kernels_config": {
    "python": {
     "delete_cmd_postfix": "",
     "delete_cmd_prefix": "del ",
     "library": "var_list.py",
     "varRefreshCmd": "print(var_dic_list())"
    },
    "r": {
     "delete_cmd_postfix": ") ",
     "delete_cmd_prefix": "rm(",
     "library": "var_list.r",
     "varRefreshCmd": "cat(var_dic_list()) "
    }
   },
   "types_to_exclude": [
    "module",
    "function",
    "builtin_function_or_method",
    "instance",
    "_Feature"
   ],
   "window_display": false
  },
  "widgets": {
   "application/vnd.jupyter.widget-state+json": {
    "state": {
     "070d3fddc7cc444db01dbf38d9e8bc7b": {
      "model_module": "@jupyter-widgets/controls",
      "model_module_version": "1.5.0",
      "model_name": "VBoxModel",
      "state": {
       "_dom_classes": [
        "widget-interact"
       ],
       "children": [
        "IPY_MODEL_55afd04c5c584d3782318aa8ea2ed80a",
        "IPY_MODEL_104d5436d4e94f5daf4447ea09297491",
        "IPY_MODEL_a5eef803172f43fdb63a200ee981135c",
        "IPY_MODEL_b97888364ddb4fe4b265d8fde92c2f64"
       ],
       "layout": "IPY_MODEL_c8750451d6904dc08287622a38ffa1ee"
      }
     },
     "104d5436d4e94f5daf4447ea09297491": {
      "model_module": "@jupyter-widgets/controls",
      "model_module_version": "1.5.0",
      "model_name": "FloatSliderModel",
      "state": {
       "description": "th",
       "layout": "IPY_MODEL_701b4322a8e240baaf21847df132224c",
       "max": 3,
       "min": 0.5,
       "step": 0.1,
       "style": "IPY_MODEL_b5ffe1adebe14145ab75b78a253184ca",
       "value": 1
      }
     },
     "45165032c6ed4649a36660f90d90bd67": {
      "model_module": "@jupyter-widgets/base",
      "model_module_version": "1.2.0",
      "model_name": "LayoutModel",
      "state": {}
     },
     "55afd04c5c584d3782318aa8ea2ed80a": {
      "model_module": "@jupyter-widgets/controls",
      "model_module_version": "1.5.0",
      "model_name": "FloatSliderModel",
      "state": {
       "description": "te",
       "layout": "IPY_MODEL_8adbf88b493c4767bb5de3a6b9500747",
       "max": 1,
       "step": 0.05,
       "style": "IPY_MODEL_e78f0e8a5109485cb6c86e5f6319b9ce",
       "value": 0.5
      }
     },
     "701b4322a8e240baaf21847df132224c": {
      "model_module": "@jupyter-widgets/base",
      "model_module_version": "1.2.0",
      "model_name": "LayoutModel",
      "state": {}
     },
     "8adbf88b493c4767bb5de3a6b9500747": {
      "model_module": "@jupyter-widgets/base",
      "model_module_version": "1.2.0",
      "model_name": "LayoutModel",
      "state": {}
     },
     "8c64e3f4f0d34b2486cfd63127eb3380": {
      "model_module": "@jupyter-widgets/controls",
      "model_module_version": "1.5.0",
      "model_name": "SliderStyleModel",
      "state": {
       "description_width": ""
      }
     },
     "a5eef803172f43fdb63a200ee981135c": {
      "model_module": "@jupyter-widgets/controls",
      "model_module_version": "1.5.0",
      "model_name": "FloatSliderModel",
      "state": {
       "description": "alp",
       "layout": "IPY_MODEL_45165032c6ed4649a36660f90d90bd67",
       "max": 0.8,
       "min": 0.2,
       "step": 0.05,
       "style": "IPY_MODEL_8c64e3f4f0d34b2486cfd63127eb3380",
       "value": 0.5
      }
     },
     "b5ffe1adebe14145ab75b78a253184ca": {
      "model_module": "@jupyter-widgets/controls",
      "model_module_version": "1.5.0",
      "model_name": "SliderStyleModel",
      "state": {
       "description_width": ""
      }
     },
     "b97888364ddb4fe4b265d8fde92c2f64": {
      "model_module": "@jupyter-widgets/output",
      "model_module_version": "1.0.0",
      "model_name": "OutputModel",
      "state": {
       "layout": "IPY_MODEL_d70ee0e0b9f541648038654a1accddd1",
       "outputs": [
        {
         "data": {
          "image/png": "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\n",
          "text/plain": "<Figure size 504x504 with 1 Axes>"
         },
         "metadata": {
          "needs_background": "light"
         },
         "output_type": "display_data"
        }
       ]
      }
     },
     "c8750451d6904dc08287622a38ffa1ee": {
      "model_module": "@jupyter-widgets/base",
      "model_module_version": "1.2.0",
      "model_name": "LayoutModel",
      "state": {}
     },
     "d70ee0e0b9f541648038654a1accddd1": {
      "model_module": "@jupyter-widgets/base",
      "model_module_version": "1.2.0",
      "model_name": "LayoutModel",
      "state": {}
     },
     "e78f0e8a5109485cb6c86e5f6319b9ce": {
      "model_module": "@jupyter-widgets/controls",
      "model_module_version": "1.5.0",
      "model_name": "SliderStyleModel",
      "state": {
       "description_width": ""
      }
     }
    },
    "version_major": 2,
    "version_minor": 0
   }
  }
 },
 "nbformat": 4,
 "nbformat_minor": 4
}
