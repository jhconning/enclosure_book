{
 "cells": [
  {
   "cell_type": "markdown",
   "metadata": {},
   "source": [
    "# Manufactures, Structural Transformation"
   ]
  },
  {
   "cell_type": "code",
   "execution_count": 1,
   "metadata": {
    "tags": [
     "hide_input"
    ]
   },
   "outputs": [],
   "source": [
    "%load_ext autoreload\n",
    "%autoreload 2"
   ]
  },
  {
   "cell_type": "code",
   "execution_count": 2,
   "metadata": {
    "tags": [
     "hide_input"
    ]
   },
   "outputs": [],
   "source": [
    "from enclose import *\n",
    "from scipy.optimize import fsolve"
   ]
  },
  {
   "cell_type": "markdown",
   "metadata": {},
   "source": [
    "## Introduction\n",
    "\n",
    "This extends the model of land enclosures to include a non-agricultural \"manufacturing\" sector in order to study structural transformation questions.\n",
    "\n",
    "## A model of enclosures\n",
    "\n",
    "As before, there is an economy-wide labor force that inelastically supplies labor $\\bar L$ to the economy. The total supply of land is $\\bar T$, with $T_e$ denoting enclosed land.  $t_e=\\frac{T_e}{\\bar T}$ is the share of land enclosed.\n",
    "\n",
    "Laborers can now move between manufacturing and agriculture, and within agriculture between the unenclosed and enclosed sectors. In equilibrium, labor moves until the competitive market wage $w$ it can earn in the \"enclosed production\" and/or in the manufacturing sectors is also equal to the value average product of (local wage plus land rents) the same labor could earn in the unenclosed sector."
   ]
  },
  {
   "cell_type": "markdown",
   "metadata": {},
   "source": [
    "Production on enclosed and unenclosed production sites employs land $T$ and labor $L$ with the following homogenous of degree 1 Cobb-Douglas production technologies:\n",
    "\n",
    "|                                    |                   |\n",
    "|:-----------------------------------|:------------------| \n",
    "| $p \\cdot \\theta_M \\cdot G(K,L)= {K}^{1-\\beta}\\cdot L^\\beta$  |  Manufacturing sector |     \n",
    "| $F(T,L)= {T}^{1-\\alpha}\\cdot L^\\alpha$  |  Unenclosed agriculture sector |\n",
    "| $\\theta \\cdot F(T,L)$  |  Enclosed agriculture sector|"
   ]
  },
  {
   "cell_type": "markdown",
   "metadata": {},
   "source": [
    "Labor moves between manufacturing and agriculture, and within the agricultural sector:\n",
    "\n",
    "$$\n",
    "L_e + L_u = 1 - L_m\n",
    "$$\n",
    "\n",
    "or\n",
    "\n",
    "$$\n",
    "l_e + l_u = 1 - l_m\n",
    "$$"
   ]
  },
  {
   "cell_type": "markdown",
   "metadata": {},
   "source": [
    "Production in the manufacturing sector can be expressed in terms of potential sector output: \n",
    "\n",
    "$$\n",
    "p \\cdot \\theta_M \\cdot l_m^\\beta \\cdot G(\\bar K, \\bar L)\n",
    "$$\n",
    "\n",
    "because $L_M = l_m \\bar L$ and $K_m$. The value marginal products of labor (MPL_i) in sector $i \\in \\{m, e, u\\}$ can then be written:\n",
    "\n",
    "$$\n",
    "MPL_m = \n",
    "\\beta \\cdot \\left ( \\frac{1}{l_m} \\right ) ^{1-\\beta} \\cdot  \\bar k^{1-\\beta}\n",
    "$$\n",
    "\n",
    "$$\n",
    "MPL_e = \n",
    " \\alpha \\cdot \\theta \\cdot \\left ( \\frac{t_e}{l_e} \\right ) ^{1-\\alpha} \\cdot \\bar t^{1-\\alpha}\n",
    "$$\n",
    "\n",
    "\n",
    "The value Average product of labor in unenclosed agriculture as:\n",
    "$$\n",
    "\\begin{aligned}\n",
    "APL_u &= \\frac{F(t_u, l_u)}{l_e} \\cdot \\frac{F(\\bar T, \\bar L)}{\\bar L} \\\\\n",
    "   &=  \\left ( \\frac{1-t_e}{1-l_m-l_e} \\right ) ^{1-\\alpha} \\cdot  \\bar t^{1-\\alpha}\n",
    "\\end{aligned}\n",
    "$$"
   ]
  },
  {
   "cell_type": "markdown",
   "metadata": {},
   "source": [
    "**Labor allocations as a function of the enclosure rate $t_e$** \n",
    "\n",
    "Suppose share $t_e$ of agricultural land has been enclosed. Workers will move across sectors (from agriculture to manufacturing) or from the enclosed to the unenclosed agricultural sectors until:\n",
    "\n",
    "$$\n",
    "w = p \\cdot MPL_m = MPL_e = APL_u\n",
    "$$\n",
    "\n",
    "Focusing on the last equality first, and simplifying:\n",
    "\n",
    "$$\n",
    "(\\alpha \\theta)^\\frac{1}{1-\\alpha} \\left ( \\frac{t_e}{l_e}   \\right ) \n",
    "= \\left ( \\frac{1-t_e}{(1-l_m)-l_e} \\right )  \n",
    "$$\n",
    "\n",
    "and solving for labor allocations as a function of $t_e$:\n",
    "\n",
    "$$\n",
    "l_e^*(t_e) = \\frac{\\Lambda t_e }{(1-t_e+\\Lambda t_e)} \\cdot (1-l_m)\n",
    "$$\n",
    "\n",
    "where  $\\Lambda = (\\alpha \\theta )^{\\frac{1}{1-\\alpha}}$ "
   ]
  },
  {
   "cell_type": "markdown",
   "metadata": {},
   "source": [
    "These expressions are just like what we derived for the agriculture-only economy except that now $(1-l_m)$ replaces $1$.\n",
    "\n",
    "With this expression for $l_e^*(t_e)$ we can find an expression for the agricultural 'wage' as a function of $t_e$ and $l_m$\n",
    "\n",
    "$$\n",
    "\\begin{aligned}\n",
    "w(t_e)^* &=  \\bar t^ {1-\\alpha} \\cdot \\left ( \\frac{t_e}{l_e(t_e)^*} \\right ) ^{1-\\alpha}  \\\\\n",
    " &=  \\bar t^ {1-\\alpha} \\cdot (1-t_e+\\Lambda t_e) ^{1-\\alpha} \\cdot \\left (\\frac{1}{1-l_m} \\right )^{1-\\alpha}  \n",
    "\\end{aligned}\n",
    "$$\n",
    "\n"
   ]
  },
  {
   "cell_type": "markdown",
   "metadata": {},
   "source": [
    "Labor will move across sectors in search of the highest wage.  An equilibrium is reached when the  labor share to manufacturing $l_m$ equalizes returns to workers across sectors:\n",
    "\n",
    "$$\n",
    "p \\cdot \\beta \\bar k ^{1-\\beta} \\left (\\frac{1}{l_m}   \\right )^{1-\\beta}  \n",
    "= \\bar t^ {1-\\alpha} \\cdot  (1-t_e+\\Lambda t_e) ^{1-\\alpha}  \\cdot \\left (\\frac{1}{1-l_m} \\right )^{1-\\alpha}\n",
    "$$\n",
    "\n",
    "The right hand side represents a weighted average of the demand for labor in the enclosed or unenclosed sector.  We can think of the mode as an augmented specific factors model with mobile labor, capital specific to the manufacturing sector, and land specific to agriculture. The twist to the model is that land may be enclosed or unenclosed, which can affect agricultural labor demands and hence also labor supply to the manufacturing sector. "
   ]
  },
  {
   "cell_type": "markdown",
   "metadata": {},
   "source": [
    "The above equilibrium condition will in general lead to a unique equilibrium in $l_m$ since there is dimininishing marginal productivity of labor.\n",
    "\n",
    "Except for the special case where $\\alpha = \\beta$ there will be no clean closed form solution, but graphical and numerical analysis is straightforward. \n"
   ]
  },
  {
   "cell_type": "markdown",
   "metadata": {},
   "source": [
    "## Graphical analysis\n",
    "\n",
    "The `weq` function takes labor supply as an input.  Without manufacturing, it's $\\bar t = \\frac{\\bar T}{\\bar L}$ but in the adapted case here it's just"
   ]
  },
  {
   "cell_type": "code",
   "execution_count": 3,
   "metadata": {},
   "outputs": [],
   "source": [
    "def Fmplm(lm, p=1, kb= 1, b=0.5):\n",
    "    C = (p*b) * kb**(1-b)\n",
    "    return C * (1/lm)**(1-b)\n",
    "\n",
    "def Fmapla(lm, te, tb = 1, a=0.5, th=1):\n",
    "    \"\"\"private labor demand in agriculture...\"\"\"\n",
    "    Lambda = (a*th)**(1/(1-a))\n",
    "    C = tb**(1-a) *  (1 + (Lambda-1)*te)**(1-a) \n",
    "    return C * (1/(1-lm))**(1-a)\n",
    "\n",
    "def Fmaplae(lm, te, tb = 1, a=0.5, th=1):\n",
    "    \"\"\"social labor demand in agriculture; planner optimum... Lambda_o\"\"\"\n",
    "    Lambda = th**(1/(1-a))     # only difference here\n",
    "    C = tb**(1-a) *  (1 + (Lambda-1)*te)**(1-a) \n",
    "    return C * (1/(1-lm))**(1-a)\n",
    "\n",
    " \n",
    "    \n",
    "def pl(te, th=1, p=1, kb= 1,  a=0.5, b=0.5, tb=1):\n",
    "    lm = np.linspace(0,1,100)\n",
    "    plt.plot(lm, mplm(lm, p, kb, b))\n",
    "    plt.plot(lm, mapla(lm, te, tb, a, th))\n",
    "    plt.grid()\n",
    "    plt.xlim(0,1)\n",
    "    plt.ylim(0,2)\n",
    "    def f(m):\n",
    "        return  mplm(m, p, kb, b) - mapla(m, te, tb, a, th)\n",
    "    lme = fsolve(f,[0.01, 0.99])[1]\n",
    "    wme = mapla(lme,te, tb, a, th)\n",
    "    print(f'lme = {lme: 0.2f}, wme = {wme:0.2f}')\n",
    "    plt.scatter(lme, wme)\n",
    "    plt.scatter(lme, 0)\n",
    "    plt.vlines(lme, 0, wme)\n",
    "    "
   ]
  },
  {
   "cell_type": "code",
   "execution_count": 4,
   "metadata": {
    "tags": [
     "hide_input"
    ]
   },
   "outputs": [],
   "source": [
    "def mplm(lm, p, kb, b ):\n",
    "    C = (p*b) * kb**(1-b)\n",
    "    return C * (1/lm)**(1-b)\n",
    "\n",
    "def mpla(lm, te, tb = 1, a=0.5, th=1, mu=1):\n",
    "    \"\"\"labor demand in agriculture; \n",
    "    mu = 0  full tragedy private\n",
    "    mu = 1  planner\"\"\"\n",
    "    lam = Lambda(th, a, mu)\n",
    "    C = tb**(1-a) *  (1 + (lam-1)*te)**(1-a) \n",
    "    return C * (1/(1-lm))**(1-a)\n",
    "\n",
    "\n",
    "def LM(te, b, a, th, tb, kb, p, mu):\n",
    "    '''Solve for private or social labor share to manufacturing\n",
    "       mu = 0   APL = MPL\n",
    "       mu = 1   MPL = MPL '''\n",
    "    \n",
    "    def f(m):\n",
    "        return  mplm(m, p, kb, b) - mpla(m, te, tb, a, th, mu)\n",
    "    \n",
    "    lmp = fsolve(f,[0.01, 0.99])[1]\n",
    "    return lmp\n",
    "\n",
    "    \n",
    "def pl(te, th=1, p=1, kb= 1,  a=0.5, b=0.5, tb=1, mu =0):\n",
    "    lm = np.linspace(0,1,100)\n",
    "    plt.plot(lm, mplm(lm, p, kb, b))\n",
    "    plt.plot(lm, mpla(lm, te, tb, a, th, mu))\n",
    "    plt.grid()\n",
    "    plt.xlim(0,1)\n",
    "    plt.ylim(0,2)\n",
    "    \n",
    "    lmp = LM(te, b, a, th,  tb, kb, p, mu = 0)\n",
    "    wmp = mpla(lmp, te, tb, a, th, mu = 0)\n",
    "    \n",
    "    lme = LM(te, b, a, th, tb, kb, p, mu=1)\n",
    "    wme = mpla(lme, te, tb, a, th, mu=1)\n",
    "    \n",
    "    print(f'lme = {lme: 0.2f}, wme = {wme:0.2f}')\n",
    "    plt.scatter(lmp, wmp)\n",
    "    plt.scatter(lmp, 0)\n",
    "    plt.vlines(lmp, 0, wmp)\n",
    "    \n",
    "    \n",
    "    plt.scatter(lme, wme)\n",
    "    plt.scatter(lme, 0)\n",
    "    plt.vlines(lme, 0, wme)"
   ]
  },
  {
   "cell_type": "code",
   "execution_count": 5,
   "metadata": {},
   "outputs": [
    {
     "data": {
      "text/plain": [
       "0.19999999999641296"
      ]
     },
     "execution_count": 5,
     "metadata": {},
     "output_type": "execute_result"
    }
   ],
   "source": [
    "LM(te = 1, b=0.5, a=0.5, th=1,  tb=1, kb=1, p=1, mu = 1)"
   ]
  },
  {
   "cell_type": "code",
   "execution_count": 7,
   "metadata": {},
   "outputs": [
    {
     "name": "stdout",
     "output_type": "stream",
     "text": [
      "lme =  0.20, wme = 1.14\n"
     ]
    },
    {
     "name": "stderr",
     "output_type": "stream",
     "text": [
      "C:\\Users\\jconn\\AppData\\Local\\Temp\\ipykernel_21248\\1346457185.py:3: RuntimeWarning: divide by zero encountered in true_divide\n",
      "  return C * (1/lm)**(1-b)\n",
      "C:\\Users\\jconn\\AppData\\Local\\Temp\\ipykernel_21248\\1346457185.py:11: RuntimeWarning: divide by zero encountered in true_divide\n",
      "  return C * (1/(1-lm))**(1-a)\n"
     ]
    },
    {
     "data": {
      "image/png": "[encoded data removed]",
      "text/plain": [
       "<Figure size 432x288 with 1 Axes>"
      ]
     },
     "metadata": {
      "needs_background": "light"
     },
     "output_type": "display_data"
    }
   ],
   "source": [
    "pl(te=1, th=1, p=1, kb= 1,  a=0.4, b=0.7, tb=1, mu =0)"
   ]
  },
  {
   "cell_type": "markdown",
   "metadata": {},
   "source": [
    "## The effect of enclosure on structural transformation\n",
    "\n",
    "Thus far we have only set things up to find the equilibrium level of manufacturing employment $l_m$, conditional on an arbitrary initial enclosure rate $t_e$.  We must still work out how to derive the equilibrium level $t_e$ which will depend on the cost of enclosures and how decentralized enclosure games are played out.  We will get to that in the next section.  \n",
    "\n",
    "But first, it is interesting to explore graphically how the enclosure rate $t_e$ can have an important influence on the level of structural transformation. \n",
    "\n",
    "Conider first an an economy without any enclosure, so $t_e=0$. For the parameter values shown below, only about 20 percent of the population moves into manufacturing."
   ]
  },
  {
   "cell_type": "code",
   "execution_count": 8,
   "metadata": {},
   "outputs": [
    {
     "name": "stdout",
     "output_type": "stream",
     "text": [
      "lme =  0.20, wme = 1.14\n"
     ]
    },
    {
     "name": "stderr",
     "output_type": "stream",
     "text": [
      "C:\\Users\\jconn\\AppData\\Local\\Temp\\ipykernel_21248\\1346457185.py:3: RuntimeWarning: divide by zero encountered in true_divide\n",
      "  return C * (1/lm)**(1-b)\n",
      "C:\\Users\\jconn\\AppData\\Local\\Temp\\ipykernel_21248\\1346457185.py:11: RuntimeWarning: divide by zero encountered in true_divide\n",
      "  return C * (1/(1-lm))**(1-a)\n"
     ]
    },
    {
     "data": {
      "image/png": "[encoded data removed]",
      "text/plain": [
       "<Figure size 432x288 with 1 Axes>"
      ]
     },
     "metadata": {
      "needs_background": "light"
     },
     "output_type": "display_data"
    }
   ],
   "source": [
    "pl(te=0, th=1, p=1, kb= 1,  a=0.4, b=0.7, tb=1)"
   ]
  },
  {
   "cell_type": "markdown",
   "metadata": {},
   "source": [
    "Now consider the same economy, but with complete land enclosure, so $t_e=1$.  Notice that in this economy $\\theta=1$ so enclosure does not raise plot level TFP.\n",
    "\n",
    "For these parameter values the labor share in manufacturing rises dramatically from 20 percent to almost 70 percent, but we end up with a significantly lower equilibrium wage (the Weitzman/Samuelson effect)."
   ]
  },
  {
   "cell_type": "code",
   "execution_count": 9,
   "metadata": {},
   "outputs": [
    {
     "name": "stdout",
     "output_type": "stream",
     "text": [
      "lme =  0.20, wme = 1.14\n"
     ]
    },
    {
     "name": "stderr",
     "output_type": "stream",
     "text": [
      "C:\\Users\\jconn\\AppData\\Local\\Temp\\ipykernel_21248\\1346457185.py:3: RuntimeWarning: divide by zero encountered in true_divide\n",
      "  return C * (1/lm)**(1-b)\n",
      "C:\\Users\\jconn\\AppData\\Local\\Temp\\ipykernel_21248\\1346457185.py:11: RuntimeWarning: divide by zero encountered in true_divide\n",
      "  return C * (1/(1-lm))**(1-a)\n"
     ]
    },
    {
     "data": {
      "image/png": "[encoded data removed]",
      "text/plain": [
       "<Figure size 432x288 with 1 Axes>"
      ]
     },
     "metadata": {
      "needs_background": "light"
     },
     "output_type": "display_data"
    }
   ],
   "source": [
    "pl(te=1, th=1, p=1, kb= 1,  a=0.4, b=0.7, tb=1)"
   ]
  },
  {
   "cell_type": "markdown",
   "metadata": {},
   "source": [
    "Below the same diagram with interactive sliders to change parameters:"
   ]
  },
  {
   "cell_type": "code",
   "execution_count": 10,
   "metadata": {},
   "outputs": [
    {
     "data": {
      "application/vnd.jupyter.widget-view+json": {
       "model_id": "ff6f4f46de304b06b9faafa94333155a",
       "version_major": 2,
       "version_minor": 0
      },
      "text/plain": [
       "interactive(children=(FloatSlider(value=0.0, description='te', max=1.0), FloatSlider(value=1.0, description='t…"
      ]
     },
     "metadata": {},
     "output_type": "display_data"
    }
   ],
   "source": [
    "interact(pl, te=(0,1,0.1), th=(0.9, 3,0.1), p = (0.5,2,0.1), tb=(0.5,2,0.1), mu=(0,1,0.1));"
   ]
  },
  {
   "cell_type": "markdown",
   "metadata": {},
   "source": [
    "We have not yet specified a cost to enclosure. If enclosure were costless, and $\\theta \\ge 1$ then it would always be worthwhile to enclose. If enclosure is costly we need to compare social benefits to social costs."
   ]
  },
  {
   "cell_type": "markdown",
   "metadata": {},
   "source": [
    "## Socially optimal enclosure with manufacturing\n",
    "\n",
    "The planner wants to choose $(T_e, L_e, L_m)$ to maximize:\n",
    "\n",
    "\n",
    "$$\n",
    "\\theta F(T_e, L_e) +  F(\\bar T - T_e, \\bar L - L_m - L_e)  + p \\cdot G(\\bar K, L_m) - c \\cdot T_e\n",
    "$$\n",
    "\n",
    "\n"
   ]
  },
  {
   "cell_type": "markdown",
   "metadata": {},
   "source": [
    "In intensive form:\n",
    "\n",
    "$$\n",
    "\\max_{t_e} \\ \\ \\left[\\theta\\cdot F(t_e, l_e(t_{e}))+F(1-t_e, 1-l_m(t_e)-l_e(t_{e}))\\right]\\cdot F(\\bar T, \\bar L)  \n",
    "+ p \\cdot l_m(t_e)^{1-\\alpha} \\cdot G(\\bar K,  \\bar L ) - c \\cdot \\bar T \\cdot t_e\n",
    "$$"
   ]
  },
  {
   "cell_type": "markdown",
   "metadata": {},
   "source": [
    "The planner will want to equate marginal value products across sector, so that \n",
    "\n",
    "$$\n",
    "p \\cdot MPL_m = MPL_e = MPL_u\n",
    "$$\n",
    "\n",
    "(this is slighlty different from the private eqn above ).\n",
    "\n",
    "Focusing on the first equality, and simplifying:\n",
    "\n",
    "$$\n",
    "\\Lambda_o \\frac{t_e}{l_e}   \n",
    "= \\left ( \\frac{1-t_e}{(1-l_m)-l_e} \\right )  \n",
    "$$\n",
    "\n",
    "and solving for labor allocations as a function of $t_e$:\n",
    "\n",
    "$$\n",
    "l_e^*(t_e) = \\frac{\\Lambda_o t_e }{(1-t_e+\\Lambda_o t_e)} \\cdot (1-l_m)\n",
    "$$\n",
    "\n",
    "where $\\Lambda_o = \\theta^\\frac{1}{1-\\alpha}$\n"
   ]
  },
  {
   "cell_type": "markdown",
   "metadata": {},
   "source": [
    "The value marginal product in the 'enclosed' sector can then be written\n",
    "\n",
    "\n",
    "$$\n",
    "\\bar t^ {1-\\alpha} \\cdot \\left ( \\frac{t_e}{l_e(t_e)^*} \\right ) ^{1-\\alpha}  \n",
    "=  \\bar t^ {1-\\alpha} \\cdot (1-t_e+\\Lambda_o t_e) ^{1-\\alpha} \\cdot \\left (\\frac{1}{1-l_m} \\right )^{1-\\alpha}  \n",
    "$$\n",
    "\n"
   ]
  },
  {
   "cell_type": "markdown",
   "metadata": {},
   "source": [
    "For this to also equal the value marginal product of labor in manufacturing the social planner will make sure that $l_m$ is chosen so that:\n",
    "\n",
    "$$\n",
    "p \\cdot \\beta \\bar k ^{1-\\beta} \\left (\\frac{1}{l_m}   \\right )^{1-\\beta}  \n",
    "= \\bar t^ {1-\\alpha} \\cdot  (1-t_e+\\Lambda_o t_e) ^{1-\\alpha}  \\cdot \\left (\\frac{1}{1-l_m} \\right )^{1-\\alpha}\n",
    "$$\n",
    "\n",
    "This looks similar to the condition that emerges from a private economy, except that the planner equalizes marginal value products in agriculture, whereas the private economy equalizes the value marginal product in the enclosed sector to the value average product in the unenclosed sector. "
   ]
  },
  {
   "cell_type": "code",
   "execution_count": null,
   "metadata": {},
   "outputs": [],
   "source": []
  }
 ],
 "metadata": {
  "jupytext": {
   "formats": "ipynb,md"
  },
  "kernelspec": {
   "display_name": "Python 3 (ipykernel)",
   "language": "python",
   "name": "python3"
  },
  "language_info": {
   "codemirror_mode": {
    "name": "ipython",
    "version": 3
   },
   "file_extension": ".py",
   "mimetype": "text/x-python",
   "name": "python",
   "nbconvert_exporter": "python",
   "pygments_lexer": "ipython3",
   "version": "3.8.13"
  },
  "varInspector": {
   "cols": {
    "lenName": 16,
    "lenType": 16,
    "lenVar": 40
   },
   "kernels_config": {
    "python": {
     "delete_cmd_postfix": "",
     "delete_cmd_prefix": "del ",
     "library": "var_list.py",
     "varRefreshCmd": "print(var_dic_list())"
    },
    "r": {
     "delete_cmd_postfix": ") ",
     "delete_cmd_prefix": "rm(",
     "library": "var_list.r",
     "varRefreshCmd": "cat(var_dic_list()) "
    }
   },
   "types_to_exclude": [
    "module",
    "function",
    "builtin_function_or_method",
    "instance",
    "_Feature"
   ],
   "window_display": false
  },
  "widgets": {
   "application/vnd.jupyter.widget-state+json": {
    "state": {
     "08923b9560464fe3914aa620768c7283": {
      "model_module": "@jupyter-widgets/base",
      "model_module_version": "1.2.0",
      "model_name": "LayoutModel",
      "state": {}
     },
     "08b1228edfaf4c519caa75bbbc04c9cb": {
      "model_module": "@jupyter-widgets/controls",
      "model_module_version": "1.5.0",
      "model_name": "SliderStyleModel",
      "state": {
       "description_width": ""
      }
     },
     "12d7ca349292409f90c13a2dc5c15c46": {
      "model_module": "@jupyter-widgets/controls",
      "model_module_version": "1.5.0",
      "model_name": "SliderStyleModel",
      "state": {
       "description_width": ""
      }
     },
     "1570bbdce19d4ede8c9d694d34480deb": {
      "model_module": "@jupyter-widgets/controls",
      "model_module_version": "1.5.0",
      "model_name": "FloatSliderModel",
      "state": {
       "description": "b",
       "layout": "IPY_MODEL_bb742e8b748640878dae710622af6d45",
       "max": 1.5,
       "min": -0.5,
       "step": 0.1,
       "style": "IPY_MODEL_93899399d2e3445694a4778d1d708ca6",
       "value": 0.5
      }
     },
     "19e12eea09704c14979de663cee82a3d": {
      "model_module": "@jupyter-widgets/base",
      "model_module_version": "1.2.0",
      "model_name": "LayoutModel",
      "state": {}
     },
     "23a191d8e3f1456e8c58a9afa94ba231": {
      "model_module": "@jupyter-widgets/base",
      "model_module_version": "1.2.0",
      "model_name": "LayoutModel",
      "state": {}
     },
     "293ebd1cc98f47a19c8b9692a1642623": {
      "model_module": "@jupyter-widgets/controls",
      "model_module_version": "1.5.0",
      "model_name": "SliderStyleModel",
      "state": {
       "description_width": ""
      }
     },
     "47737aafc78e4756886daa37029dac3e": {
      "model_module": "@jupyter-widgets/controls",
      "model_module_version": "1.5.0",
      "model_name": "FloatSliderModel",
      "state": {
       "description": "tb",
       "layout": "IPY_MODEL_23a191d8e3f1456e8c58a9afa94ba231",
       "max": 2,
       "min": 0.5,
       "step": 0.1,
       "style": "IPY_MODEL_12d7ca349292409f90c13a2dc5c15c46",
       "value": 1
      }
     },
     "4c1b08c84d944c15b270848e6be72888": {
      "model_module": "@jupyter-widgets/base",
      "model_module_version": "1.2.0",
      "model_name": "LayoutModel",
      "state": {}
     },
     "6f5c099db365454084fa53eedef563db": {
      "model_module": "@jupyter-widgets/controls",
      "model_module_version": "1.5.0",
      "model_name": "SliderStyleModel",
      "state": {
       "description_width": ""
      }
     },
     "7f21d45d167841b08f89142dc419d5a9": {
      "model_module": "@jupyter-widgets/controls",
      "model_module_version": "1.5.0",
      "model_name": "FloatSliderModel",
      "state": {
       "description": "a",
       "layout": "IPY_MODEL_4c1b08c84d944c15b270848e6be72888",
       "max": 1.5,
       "min": -0.5,
       "step": 0.1,
       "style": "IPY_MODEL_6f5c099db365454084fa53eedef563db",
       "value": 0.5
      }
     },
     "9162f92d487845788f794eefec20d1ea": {
      "model_module": "@jupyter-widgets/controls",
      "model_module_version": "1.5.0",
      "model_name": "FloatSliderModel",
      "state": {
       "description": "th",
       "layout": "IPY_MODEL_f58da9a737a441638141cc41c7d59966",
       "max": 3,
       "min": 0.9,
       "step": 0.1,
       "style": "IPY_MODEL_08b1228edfaf4c519caa75bbbc04c9cb",
       "value": 1
      }
     },
     "93899399d2e3445694a4778d1d708ca6": {
      "model_module": "@jupyter-widgets/controls",
      "model_module_version": "1.5.0",
      "model_name": "SliderStyleModel",
      "state": {
       "description_width": ""
      }
     },
     "97e75afa19644dc98760a7fcf43e180b": {
      "model_module": "@jupyter-widgets/controls",
      "model_module_version": "1.5.0",
      "model_name": "FloatSliderModel",
      "state": {
       "description": "p",
       "layout": "IPY_MODEL_bd3855560d474fd585a151f514c27299",
       "max": 2,
       "min": 0.5,
       "step": 0.1,
       "style": "IPY_MODEL_cbbb242792144d8ea7fa4c34ee9cfe35",
       "value": 1
      }
     },
     "9c8dd1f9e6f34d8cad83c901ad9e6e16": {
      "model_module": "@jupyter-widgets/output",
      "model_module_version": "1.0.0",
      "model_name": "OutputModel",
      "state": {
       "layout": "IPY_MODEL_b2dc2911a79646a1b7c21d2b87c56b0c",
       "outputs": [
        {
         "name": "stdout",
         "output_type": "stream",
         "text": "lme =  0.20, wme = 1.12\n"
        },
        {
         "name": "stderr",
         "output_type": "stream",
         "text": "C:\\Users\\jconn\\AppData\\Local\\Temp\\ipykernel_21248\\1346457185.py:3: RuntimeWarning: divide by zero encountered in true_divide\n  return C * (1/lm)**(1-b)\nC:\\Users\\jconn\\AppData\\Local\\Temp\\ipykernel_21248\\1346457185.py:11: RuntimeWarning: divide by zero encountered in true_divide\n  return C * (1/(1-lm))**(1-a)\n"
        },
        {
         "data": {
          "image/png": "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\n",
          "text/plain": "<Figure size 432x288 with 1 Axes>"
         },
         "metadata": {
          "needs_background": "light"
         },
         "output_type": "display_data"
        }
       ]
      }
     },
     "a2e964ffb5e64eaf848fd7c351eaa8f9": {
      "model_module": "@jupyter-widgets/controls",
      "model_module_version": "1.5.0",
      "model_name": "SliderStyleModel",
      "state": {
       "description_width": ""
      }
     },
     "aa4cdac04e994723a65604957b6e8152": {
      "model_module": "@jupyter-widgets/controls",
      "model_module_version": "1.5.0",
      "model_name": "FloatSliderModel",
      "state": {
       "description": "mu",
       "layout": "IPY_MODEL_f1c17f24e96741c2ae03193fa57507a2",
       "max": 1,
       "step": 0.1,
       "style": "IPY_MODEL_293ebd1cc98f47a19c8b9692a1642623"
      }
     },
     "b2dc2911a79646a1b7c21d2b87c56b0c": {
      "model_module": "@jupyter-widgets/base",
      "model_module_version": "1.2.0",
      "model_name": "LayoutModel",
      "state": {}
     },
     "bb742e8b748640878dae710622af6d45": {
      "model_module": "@jupyter-widgets/base",
      "model_module_version": "1.2.0",
      "model_name": "LayoutModel",
      "state": {}
     },
     "bd3855560d474fd585a151f514c27299": {
      "model_module": "@jupyter-widgets/base",
      "model_module_version": "1.2.0",
      "model_name": "LayoutModel",
      "state": {}
     },
     "c3bfe467961a4070a04324ef1aca552f": {
      "model_module": "@jupyter-widgets/controls",
      "model_module_version": "1.5.0",
      "model_name": "SliderStyleModel",
      "state": {
       "description_width": ""
      }
     },
     "cbbb242792144d8ea7fa4c34ee9cfe35": {
      "model_module": "@jupyter-widgets/controls",
      "model_module_version": "1.5.0",
      "model_name": "SliderStyleModel",
      "state": {
       "description_width": ""
      }
     },
     "cea62d7644eb4263a85b22ac17059b99": {
      "model_module": "@jupyter-widgets/controls",
      "model_module_version": "1.5.0",
      "model_name": "IntSliderModel",
      "state": {
       "description": "kb",
       "layout": "IPY_MODEL_d8a9907803e44317ae23dcf4e0361142",
       "max": 3,
       "min": -1,
       "style": "IPY_MODEL_c3bfe467961a4070a04324ef1aca552f",
       "value": 1
      }
     },
     "d8a9907803e44317ae23dcf4e0361142": {
      "model_module": "@jupyter-widgets/base",
      "model_module_version": "1.2.0",
      "model_name": "LayoutModel",
      "state": {}
     },
     "f1c17f24e96741c2ae03193fa57507a2": {
      "model_module": "@jupyter-widgets/base",
      "model_module_version": "1.2.0",
      "model_name": "LayoutModel",
      "state": {}
     },
     "f58da9a737a441638141cc41c7d59966": {
      "model_module": "@jupyter-widgets/base",
      "model_module_version": "1.2.0",
      "model_name": "LayoutModel",
      "state": {}
     },
     "f7a60835daea45e1847c8fdf20e014fe": {
      "model_module": "@jupyter-widgets/controls",
      "model_module_version": "1.5.0",
      "model_name": "FloatSliderModel",
      "state": {
       "description": "te",
       "layout": "IPY_MODEL_19e12eea09704c14979de663cee82a3d",
       "max": 1,
       "step": 0.1,
       "style": "IPY_MODEL_a2e964ffb5e64eaf848fd7c351eaa8f9"
      }
     },
     "ff6f4f46de304b06b9faafa94333155a": {
      "model_module": "@jupyter-widgets/controls",
      "model_module_version": "1.5.0",
      "model_name": "VBoxModel",
      "state": {
       "_dom_classes": [
        "widget-interact"
       ],
       "children": [
        "IPY_MODEL_f7a60835daea45e1847c8fdf20e014fe",
        "IPY_MODEL_9162f92d487845788f794eefec20d1ea",
        "IPY_MODEL_97e75afa19644dc98760a7fcf43e180b",
        "IPY_MODEL_cea62d7644eb4263a85b22ac17059b99",
        "IPY_MODEL_7f21d45d167841b08f89142dc419d5a9",
        "IPY_MODEL_1570bbdce19d4ede8c9d694d34480deb",
        "IPY_MODEL_47737aafc78e4756886daa37029dac3e",
        "IPY_MODEL_aa4cdac04e994723a65604957b6e8152",
        "IPY_MODEL_9c8dd1f9e6f34d8cad83c901ad9e6e16"
       ],
       "layout": "IPY_MODEL_08923b9560464fe3914aa620768c7283"
      }
     }
    },
    "version_major": 2,
    "version_minor": 0
   }
  }
 },
 "nbformat": 4,
 "nbformat_minor": 4
}
