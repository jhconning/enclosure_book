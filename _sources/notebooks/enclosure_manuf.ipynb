{
 "cells": [
  {
   "cell_type": "markdown",
   "metadata": {},
   "source": [
    "# Manufactures, Structural Transformation"
   ]
  },
  {
   "cell_type": "code",
   "execution_count": 1,
   "metadata": {
    "tags": [
     "hide_input"
    ]
   },
   "outputs": [],
   "source": [
    "%load_ext autoreload\n",
    "%autoreload 2"
   ]
  },
  {
   "cell_type": "code",
   "execution_count": 2,
   "metadata": {
    "tags": [
     "hide_input"
    ]
   },
   "outputs": [],
   "source": [
    "from enclose import *\n",
    "from scipy.optimize import fsolve"
   ]
  },
  {
   "cell_type": "markdown",
   "metadata": {},
   "source": [
    "## Introduction\n",
    "\n",
    "These nootes show how to extend the model of land enclosures to add a non-agricultural \"manufacturing\" sector and study structural transformation questions.\n",
    "\n",
    "## A model of enclosures\n",
    "\n",
    "As before, a population of $\\bar L$ agents inelastically supplies labor $\\bar L$ to the economy. The total supply of land is $\\bar T$, with $T_e$ denoting enclosed land.  $t_e=\\frac{T_e}{\\bar T}$ is the share of land enclosed.\n",
    "\n",
    "Laborers can now move between manufacturing and agriculture, and within agriculture between the unenclosed and enclosed sectors. In equilibrium, labor moves until the competitive market wage $w$ it can earn in the \"enclosed production\" and/or in the manufacturing sectors is also equal to the value average product of (local wage plus land rents) the same labor could earn in the unenclosed sector.\n",
    "\n",
    "Production on enclosed and unenclosed production sites employs land $T$ and labor $L$ with the following homogenous of degree 1 Cobb-Douglas production technologies:\n",
    "\n",
    "|                                    |                       |\n",
    "|:-----------------------------------|:------------------| \n",
    "| $p \\cdot \\theta_M \\cdot G(K,L)= {K}^{1-\\beta}\\cdot L^\\beta$  |  Production technology in the manufacturing sector |     \n",
    "| $F(T,L)= {T}^{1-\\alpha}\\cdot L^\\alpha$  |  Production technology in unenclosed agriculture sector |\n",
    "| $\\theta \\cdot F(T,L)$  |  Production technology in the enclosed agriculture sector|\n",
    "\n",
    "In equilibrium, the labor market clears:\n",
    "\n",
    "$$\n",
    "L_e + L_u = 1 - L_m\n",
    "$$\n",
    "\n",
    "or\n",
    "\n",
    "$$\n",
    "l_e + l_u = 1 - l_m\n",
    "$$"
   ]
  },
  {
   "cell_type": "markdown",
   "metadata": {},
   "source": [
    "Production in the manufacturing sector thus be expressed in terms of potential output in the sector as: \n",
    "\n",
    "$$\n",
    "p \\cdot \\theta_M \\cdot l_m^\\beta \\cdot G(\\bar K, \\bar L)\n",
    "$$\n",
    "\n",
    "because $L_M = l_m \\bar L$ and $K_m$. The marginal products of labor (MPL_i) in sector $i \\in \\{m, e, u\\}$ can then be written:\n",
    "\n",
    "$$\n",
    "MPL_m = \n",
    "\\beta \\cdot \\left ( \\frac{1}{l_m} \\right ) ^{1-\\beta} \\cdot  \\bar k^{1-\\beta}\n",
    "$$\n",
    "\n",
    "$$\n",
    "MPL_e = \n",
    " \\alpha \\cdot \\theta \\cdot \\left ( \\frac{t_e}{l_e} \\right ) ^{1-\\alpha} \\cdot \\bar t^{1-\\alpha}\n",
    "$$\n",
    "\n",
    "\n",
    "Average product of labor in unenclosed agriculture is:\n",
    "$$\n",
    "\\begin{aligned}\n",
    "APL_u &= \\frac{F(t_u, l_u)}{l_e} \\cdot \\frac{F(\\bar T, \\bar L)}{\\bar L} \\\\\n",
    "   &=  \\left ( \\frac{1-t_e}{1-l_m-l_e} \\right ) ^{1-\\alpha} \\cdot  \\bar t^{1-\\alpha}\n",
    "\\end{aligned}\n",
    "$$\n",
    "\n",
    "Note that for our Cobb-Douglas production $MPL_u = \\alpha APL_u$ "
   ]
  },
  {
   "cell_type": "markdown",
   "metadata": {},
   "source": [
    "**Labor allocation as a function of the enclosure rate $t_e$** \n",
    "\n",
    "Suppose share $t_e$ of agricultural land has been enclosed. Workers will move across sectors (from agriculture to manufacturing) or from the enclosed to the unenclosed agricultural sectors until:\n",
    "\n",
    "$$\n",
    "w = p \\cdot MPL_m = MPL_e = APL_u\n",
    "$$\n",
    "\n",
    "Let's focus on the last equality first. Simplifying:\n",
    "\n",
    "$$\n",
    "(\\alpha \\theta)^\\frac{1}{1-\\alpha} \\left ( \\frac{t_e}{l_e}   \\right ) \n",
    "= \\left ( \\frac{1-t_e}{(1-l_m)-l_e} \\right )  \n",
    "$$\n",
    "\n",
    "and solving for labor allocations as a function of $t_e$:\n",
    "\n",
    "$$\n",
    "l_e^*(t_e) = \\frac{\\Lambda t_e }{(1-t_e+\\Lambda t_e)} \\cdot (1-l_m)\n",
    "$$\n",
    "\n",
    "where  $\\Lambda = (\\alpha \\theta )^{\\frac{1}{1-\\alpha}}$ "
   ]
  },
  {
   "cell_type": "markdown",
   "metadata": {},
   "source": [
    "These expressions are very similar to what we derived for the agriculture-only economy except that now $(1-l_m)$ replaces $1$.\n",
    "\n",
    "Using this expression for $l_e$ for any level of enclosure $t_e$ and $l_m$ we can find an expression for the rural 'wage' \n",
    "\n",
    "$$\n",
    "\\begin{aligned}\n",
    "w(t_e)^* &=  \\bar t^ {1-\\alpha} \\cdot \\left ( \\frac{t_e}{l_e(t_e)^*} \\right ) ^{1-\\alpha}  \\\\\n",
    " &=  \\bar t^ {1-\\alpha} \\cdot (1-t_e+\\Lambda t_e) ^{1-\\alpha} \\cdot \\left (\\frac{1}{1-l_m} \\right )^{1-\\alpha}  \n",
    "\\end{aligned}\n",
    "$$\n",
    "\n",
    "As expected, when $t_e=1$ we get $w = \\alpha \\theta \\cdot \\bar t^{1-\\alpha}$ and when $t_e=0$ instead $w=\\bar t^{1-\\alpha}$.\n",
    "\n",
    "The equilibrium labor share to manufacturing that equalizes returns to workers across sectors is given by:\n",
    "\n",
    "$$\n",
    "p \\cdot \\beta \\bar k ^{1-\\beta} \\left (\\frac{1}{l_m}   \\right )^{1-\\beta}  \n",
    "= \\bar t^ {1-\\alpha} \\cdot  (1-t_e+\\Lambda t_e) ^{1-\\alpha}  \\cdot \\left (\\frac{1}{1-l_m} \\right )^{1-\\alpha}\n",
    "$$\n",
    "\n",
    "We can think of this as an augmented specific factors model, mobile labor, capital specific to the manufacturing sector, and land specific to agriculture, but with the twist that land may be enclosed or unenclosed, which can affect labor demands. The market clears at a labor market allocation $l_m$ when the value marginal product of a labor (or labor demand) in manufacturing is equal to the market equilibrium wage $w$ which in turn equals a enclosure-rate weighted average of marginal value product of labor on enclosed lands and average value product of labor on unenclosed lands.  Raising each side of the above to the power of $\\frac{1}{1-\\alpha}$:\n",
    "\n",
    "\n",
    "\n",
    "$$\n",
    "(p \\cdot \\beta)^\\frac{1}{1-\\alpha} \\bar k ^\\frac{1-\\beta}{1-\\alpha} \\left (1-l_m   \\right )  \n",
    "= \\bar t \\cdot  (1-t_e+\\Lambda t_e)   \\cdot l_m ^\\frac{1-\\beta}{1-\\alpha}\n",
    "$$"
   ]
  },
  {
   "cell_type": "markdown",
   "metadata": {},
   "source": [
    "## Plotting the equilibrium\n",
    "\n",
    "The `weq` function takes labor supply as an input.  Without manufacturing, it's $\\bar t = \\frac{\\bar T}{\\bar L}$ but in the adapted case here it's just"
   ]
  },
  {
   "cell_type": "code",
   "execution_count": 39,
   "metadata": {
    "tags": [
     "hide_input"
    ]
   },
   "outputs": [],
   "source": [
    "def mplm(lm, p=1, kb= 1, b=0.5):\n",
    "    C = (p*b) * kb**(1-b)\n",
    "    return C * (1/lm)**(1-b)\n",
    "\n",
    "def mapla(lm, te, tb = 1, a=0.5, th=1):\n",
    "    \"\"\"labor demand in agriculture... weighted avg\"\"\"\n",
    "    Lambda = (a*th)**(1/(1-a))\n",
    "    C = tb**(1-a) *  (1 + (Lambda-1)*te)**(1-a) \n",
    "    return C * (1/(1-lm))**(1-a)\n",
    "\n",
    "\n",
    "def pl(te, th=1, p=1, kb= 1,  a=0.5, b=0.5, tb=1):\n",
    "    lm = np.linspace(0,1,100)\n",
    "    plt.plot(lm, mplm(lm, p, kb, b))\n",
    "    plt.plot(lm, mapla(lm, te, tb, a, th))\n",
    "    plt.grid()\n",
    "    plt.xlim(0,1)\n",
    "    plt.ylim(0,2)\n",
    "    def f(m):\n",
    "        return  mplm(m, p, kb, b) - mapla(m, te, tb, a, th)\n",
    "    lme = fsolve(f,[0.01, 0.99])[1]\n",
    "    wme = mapla(lme,te, tb, a, th)\n",
    "    print(f'lme = {lme: 0.2f}, wme = {wme:0.2f}')\n",
    "    plt.scatter(lme, wme)\n",
    "    plt.scatter(lme, 0)\n",
    "    plt.vlines(lme, 0, wme)"
   ]
  },
  {
   "cell_type": "markdown",
   "metadata": {},
   "source": [
    "## The effect of enclosure on structural transformation\n",
    "\n",
    "Here we show that enclosures can have an important effect on structural transformation, though we do not yet solve for the equilibrium level of enclosures.\n",
    "\n",
    "Here is an economy without any enclosure. About 20 percent of the population is in manufacturing."
   ]
  },
  {
   "cell_type": "code",
   "execution_count": 40,
   "metadata": {},
   "outputs": [
    {
     "name": "stdout",
     "output_type": "stream",
     "text": [
      "lme =  0.20, wme = 1.14\n"
     ]
    },
    {
     "data": {
      "image/png": "[encoded data removed]",
      "text/plain": [
       "<Figure size 432x288 with 1 Axes>"
      ]
     },
     "metadata": {
      "needs_background": "light"
     },
     "output_type": "display_data"
    }
   ],
   "source": [
    "pl(te=0, th=1, p=1, kb= 1,  a=0.4, b=0.7, tb=1)"
   ]
  },
  {
   "cell_type": "markdown",
   "metadata": {},
   "source": [
    "Now consider the same economy, with the only difference that land is completely enclosed, so $t_e=1$.  Notice that in this economy $\\theta=1$ so enclosure does not raise plot level TFP.\n",
    "\n",
    "Notice that the labor share in manufacturing rises dramatically to almost 70 percent, but we end up with a significantly lower equilibrium wage (the Weitzman/Samuelson effect)."
   ]
  },
  {
   "cell_type": "code",
   "execution_count": 41,
   "metadata": {},
   "outputs": [
    {
     "name": "stdout",
     "output_type": "stream",
     "text": [
      "lme =  0.68, wme = 0.79\n"
     ]
    },
    {
     "data": {
      "image/png": "[encoded data removed]",
      "text/plain": [
       "<Figure size 432x288 with 1 Axes>"
      ]
     },
     "metadata": {
      "needs_background": "light"
     },
     "output_type": "display_data"
    }
   ],
   "source": [
    "pl(te=1, th=1, p=1, kb= 1,  a=0.4, b=0.7, tb=1)"
   ]
  },
  {
   "cell_type": "markdown",
   "metadata": {},
   "source": [
    "The same diagram with interactive sliders to change parameters:"
   ]
  },
  {
   "cell_type": "code",
   "execution_count": 42,
   "metadata": {},
   "outputs": [
    {
     "data": {
      "application/vnd.jupyter.widget-view+json": {
       "model_id": "b28f3dd889e145c29e3a4dc94659f03f",
       "version_major": 2,
       "version_minor": 0
      },
      "text/plain": [
       "interactive(children=(FloatSlider(value=0.0, description='te', max=1.0), FloatSlider(value=1.0, description='t…"
      ]
     },
     "metadata": {},
     "output_type": "display_data"
    }
   ],
   "source": [
    "interact(pl, te=(0,1,0.1), th=(0.9, 3,0.1), p = (0.5,2,0.1), tb=(0.5,2,0.1));"
   ]
  },
  {
   "cell_type": "markdown",
   "metadata": {},
   "source": [
    "We have not yet specified a cost to enclosure. If enclosure were costless, and $\\theta \\ge 1$ then it would always be worthwhile to enclose. If enclosure is costly we need to compare social benefits to social costs."
   ]
  },
  {
   "cell_type": "markdown",
   "metadata": {},
   "source": [
    "## Socially optimal enclosure\n",
    "\n",
    "The planner wants to choose $(T_e, L_e, L_m)$ to maximize:\n",
    "\n",
    "\n",
    "$$\n",
    "\\theta F(T_e, L_e) +  F(\\bar T - T_e, \\bar L - L_m - L_e)  + p \\cdot G(\\bar K, L_m) - c \\cdot T_e\n",
    "$$\n",
    "\n",
    "\n"
   ]
  },
  {
   "cell_type": "markdown",
   "metadata": {},
   "source": [
    "To be continued..."
   ]
  },
  {
   "cell_type": "code",
   "execution_count": null,
   "metadata": {},
   "outputs": [],
   "source": []
  }
 ],
 "metadata": {
  "kernelspec": {
   "display_name": "Python 3 (ipykernel)",
   "language": "python",
   "name": "python3"
  },
  "language_info": {
   "codemirror_mode": {
    "name": "ipython",
    "version": 3
   },
   "file_extension": ".py",
   "mimetype": "text/x-python",
   "name": "python",
   "nbconvert_exporter": "python",
   "pygments_lexer": "ipython3",
   "version": "3.8.12"
  },
  "varInspector": {
   "cols": {
    "lenName": 16,
    "lenType": 16,
    "lenVar": 40
   },
   "kernels_config": {
    "python": {
     "delete_cmd_postfix": "",
     "delete_cmd_prefix": "del ",
     "library": "var_list.py",
     "varRefreshCmd": "print(var_dic_list())"
    },
    "r": {
     "delete_cmd_postfix": ") ",
     "delete_cmd_prefix": "rm(",
     "library": "var_list.r",
     "varRefreshCmd": "cat(var_dic_list()) "
    }
   },
   "types_to_exclude": [
    "module",
    "function",
    "builtin_function_or_method",
    "instance",
    "_Feature"
   ],
   "window_display": false
  },
  "widgets": {
   "application/vnd.jupyter.widget-state+json": {
    "state": {
     "0198cd68e99745bf91297e0a73bc67ec": {
      "model_module": "@jupyter-widgets/controls",
      "model_module_version": "1.5.0",
      "model_name": "FloatSliderModel",
      "state": {
       "description": "b",
       "layout": "IPY_MODEL_058976cec14947608f116f2947686dc0",
       "max": 1.5,
       "min": -0.5,
       "step": 0.1,
       "style": "IPY_MODEL_984a2dabd3eb429ea9b6ffea993e3123",
       "value": 0.8
      }
     },
     "02be50ba0bfb4889873aa3297074f8a5": {
      "model_module": "@jupyter-widgets/base",
      "model_module_version": "1.2.0",
      "model_name": "LayoutModel",
      "state": {}
     },
     "038e7ff8adef489db8864ed14d46d4d6": {
      "model_module": "@jupyter-widgets/controls",
      "model_module_version": "1.5.0",
      "model_name": "VBoxModel",
      "state": {
       "_dom_classes": [
        "widget-interact"
       ],
       "children": [
        "IPY_MODEL_995c634645b64ed3ba30a4702e8d7c9a",
        "IPY_MODEL_44cc5d7872654d2b9b7416756facbe39",
        "IPY_MODEL_d9f2472a42b3457ebdc4a478d7341909",
        "IPY_MODEL_7e0c25ded0574cf58d2861c8a3dcf44f",
        "IPY_MODEL_b42c7616aabb4a5395b02cf8ea649fae",
        "IPY_MODEL_0198cd68e99745bf91297e0a73bc67ec",
        "IPY_MODEL_b85866efbafb460abe47dd7ca5333ee3",
        "IPY_MODEL_3a348a23d47047e1a4a3635bab2be714"
       ],
       "layout": "IPY_MODEL_e3794844c9ba445b949c5d7dcd8ccb50"
      }
     },
     "05707557794a4be1ac7863b43c82fa50": {
      "model_module": "@jupyter-widgets/controls",
      "model_module_version": "1.5.0",
      "model_name": "FloatSliderModel",
      "state": {
       "description": "tb",
       "layout": "IPY_MODEL_1dd4daaf82474f02ba551093912fa8f2",
       "max": 2,
       "min": 0.5,
       "step": 0.1,
       "style": "IPY_MODEL_3aabce34f14d4ec18e612ba18aac9e54",
       "value": 1
      }
     },
     "058976cec14947608f116f2947686dc0": {
      "model_module": "@jupyter-widgets/base",
      "model_module_version": "1.2.0",
      "model_name": "LayoutModel",
      "state": {}
     },
     "10091cf5fe054978bb0bd4088cabba7e": {
      "model_module": "@jupyter-widgets/controls",
      "model_module_version": "1.5.0",
      "model_name": "SliderStyleModel",
      "state": {
       "description_width": ""
      }
     },
     "143ea558eea94afbbbf1ad467e674d2e": {
      "model_module": "@jupyter-widgets/base",
      "model_module_version": "1.2.0",
      "model_name": "LayoutModel",
      "state": {}
     },
     "16fc344488ca4f41a90f71e3a953215d": {
      "model_module": "@jupyter-widgets/controls",
      "model_module_version": "1.5.0",
      "model_name": "SliderStyleModel",
      "state": {
       "description_width": ""
      }
     },
     "1dd4daaf82474f02ba551093912fa8f2": {
      "model_module": "@jupyter-widgets/base",
      "model_module_version": "1.2.0",
      "model_name": "LayoutModel",
      "state": {}
     },
     "239c32963aec454686815259039ccd2c": {
      "model_module": "@jupyter-widgets/controls",
      "model_module_version": "1.5.0",
      "model_name": "IntSliderModel",
      "state": {
       "description": "kb",
       "layout": "IPY_MODEL_32b7fc34396e445fa4ab1d4a307ba1b1",
       "max": 3,
       "min": -1,
       "style": "IPY_MODEL_acdcd44f8fb046dc8f54d30fbf615e34",
       "value": 1
      }
     },
     "24d8ac5bb3be4796bfa176db7fc4c820": {
      "model_module": "@jupyter-widgets/base",
      "model_module_version": "1.2.0",
      "model_name": "LayoutModel",
      "state": {}
     },
     "2639603537344fa1abab2615477ae9e1": {
      "model_module": "@jupyter-widgets/controls",
      "model_module_version": "1.5.0",
      "model_name": "SliderStyleModel",
      "state": {
       "description_width": ""
      }
     },
     "280e6cc6893640e2b188ee74b8070306": {
      "model_module": "@jupyter-widgets/base",
      "model_module_version": "1.2.0",
      "model_name": "LayoutModel",
      "state": {}
     },
     "32b7fc34396e445fa4ab1d4a307ba1b1": {
      "model_module": "@jupyter-widgets/base",
      "model_module_version": "1.2.0",
      "model_name": "LayoutModel",
      "state": {}
     },
     "3a348a23d47047e1a4a3635bab2be714": {
      "model_module": "@jupyter-widgets/output",
      "model_module_version": "1.0.0",
      "model_name": "OutputModel",
      "state": {
       "layout": "IPY_MODEL_02be50ba0bfb4889873aa3297074f8a5",
       "outputs": [
        {
         "data": {
          "image/png": "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\n",
          "text/plain": "<Figure size 432x288 with 1 Axes>"
         },
         "metadata": {
          "needs_background": "light"
         },
         "output_type": "display_data"
        }
       ]
      }
     },
     "3aabce34f14d4ec18e612ba18aac9e54": {
      "model_module": "@jupyter-widgets/controls",
      "model_module_version": "1.5.0",
      "model_name": "SliderStyleModel",
      "state": {
       "description_width": ""
      }
     },
     "3cc2f992abc74ed3a1ae4e4411979ddb": {
      "model_module": "@jupyter-widgets/base",
      "model_module_version": "1.2.0",
      "model_name": "LayoutModel",
      "state": {}
     },
     "44cc5d7872654d2b9b7416756facbe39": {
      "model_module": "@jupyter-widgets/controls",
      "model_module_version": "1.5.0",
      "model_name": "FloatSliderModel",
      "state": {
       "description": "th",
       "layout": "IPY_MODEL_efb9ae1520ad4673a662808979d82273",
       "max": 3,
       "min": 0.9,
       "step": 0.1,
       "style": "IPY_MODEL_7b9f67d3be97431489499f3bffe528c1",
       "value": 1
      }
     },
     "4bc7e11f3214474694c2dc9edfd59359": {
      "model_module": "@jupyter-widgets/controls",
      "model_module_version": "1.5.0",
      "model_name": "SliderStyleModel",
      "state": {
       "description_width": ""
      }
     },
     "52e3ea883ed3480e813ef996bece91e0": {
      "model_module": "@jupyter-widgets/controls",
      "model_module_version": "1.5.0",
      "model_name": "FloatSliderModel",
      "state": {
       "description": "a",
       "layout": "IPY_MODEL_280e6cc6893640e2b188ee74b8070306",
       "max": 1.5,
       "min": -0.5,
       "step": 0.1,
       "style": "IPY_MODEL_2639603537344fa1abab2615477ae9e1",
       "value": 0.5
      }
     },
     "581841ecdd1e4ee6ad243d12c44b13de": {
      "model_module": "@jupyter-widgets/base",
      "model_module_version": "1.2.0",
      "model_name": "LayoutModel",
      "state": {}
     },
     "6bd1924ef67249c38122d50ddc8a300b": {
      "model_module": "@jupyter-widgets/base",
      "model_module_version": "1.2.0",
      "model_name": "LayoutModel",
      "state": {}
     },
     "6ccab21a96694b918363082a07aab60b": {
      "model_module": "@jupyter-widgets/base",
      "model_module_version": "1.2.0",
      "model_name": "LayoutModel",
      "state": {}
     },
     "78bf688276524c16a695955af25064af": {
      "model_module": "@jupyter-widgets/controls",
      "model_module_version": "1.5.0",
      "model_name": "SliderStyleModel",
      "state": {
       "description_width": ""
      }
     },
     "7b9f67d3be97431489499f3bffe528c1": {
      "model_module": "@jupyter-widgets/controls",
      "model_module_version": "1.5.0",
      "model_name": "SliderStyleModel",
      "state": {
       "description_width": ""
      }
     },
     "7bcddae7ebdf45b4b1d1e2deffa1b0a3": {
      "model_module": "@jupyter-widgets/base",
      "model_module_version": "1.2.0",
      "model_name": "LayoutModel",
      "state": {}
     },
     "7c0491789c3f4fed963e7dce83c4090e": {
      "model_module": "@jupyter-widgets/controls",
      "model_module_version": "1.5.0",
      "model_name": "FloatSliderModel",
      "state": {
       "description": "a",
       "layout": "IPY_MODEL_7df14c2013064b26a99c8c76f8736652",
       "max": 1.5,
       "min": -0.5,
       "step": 0.1,
       "style": "IPY_MODEL_8846d4727abf4ac58eb05864376adca4",
       "value": 0.5
      }
     },
     "7df14c2013064b26a99c8c76f8736652": {
      "model_module": "@jupyter-widgets/base",
      "model_module_version": "1.2.0",
      "model_name": "LayoutModel",
      "state": {}
     },
     "7e0c25ded0574cf58d2861c8a3dcf44f": {
      "model_module": "@jupyter-widgets/controls",
      "model_module_version": "1.5.0",
      "model_name": "IntSliderModel",
      "state": {
       "description": "kb",
       "layout": "IPY_MODEL_ba137df9c44545c6a4b3d7662d79a6d4",
       "max": 3,
       "min": -1,
       "style": "IPY_MODEL_8b817e5d3277435bb2a905cf4d8f3fd1",
       "value": 1
      }
     },
     "816803e6422d4a41be7f5cd5f5a3ba73": {
      "model_module": "@jupyter-widgets/controls",
      "model_module_version": "1.5.0",
      "model_name": "SliderStyleModel",
      "state": {
       "description_width": ""
      }
     },
     "823073e5450f4b6d85d3a5d9cec340bc": {
      "model_module": "@jupyter-widgets/controls",
      "model_module_version": "1.5.0",
      "model_name": "SliderStyleModel",
      "state": {
       "description_width": ""
      }
     },
     "82c531baf90b41f398aec4a8b4c385fc": {
      "model_module": "@jupyter-widgets/controls",
      "model_module_version": "1.5.0",
      "model_name": "SliderStyleModel",
      "state": {
       "description_width": ""
      }
     },
     "832eb6e02acf4460ab9bf5895d687435": {
      "model_module": "@jupyter-widgets/base",
      "model_module_version": "1.2.0",
      "model_name": "LayoutModel",
      "state": {}
     },
     "874ea05b740241c7ac2fc4385293d31b": {
      "model_module": "@jupyter-widgets/controls",
      "model_module_version": "1.5.0",
      "model_name": "SliderStyleModel",
      "state": {
       "description_width": ""
      }
     },
     "8753c2bb688944cf9d73692a9a8ea22d": {
      "model_module": "@jupyter-widgets/base",
      "model_module_version": "1.2.0",
      "model_name": "LayoutModel",
      "state": {}
     },
     "8846d4727abf4ac58eb05864376adca4": {
      "model_module": "@jupyter-widgets/controls",
      "model_module_version": "1.5.0",
      "model_name": "SliderStyleModel",
      "state": {
       "description_width": ""
      }
     },
     "8b817e5d3277435bb2a905cf4d8f3fd1": {
      "model_module": "@jupyter-widgets/controls",
      "model_module_version": "1.5.0",
      "model_name": "SliderStyleModel",
      "state": {
       "description_width": ""
      }
     },
     "8fbd57ca4d184a8184981ae6e4c72ff4": {
      "model_module": "@jupyter-widgets/controls",
      "model_module_version": "1.5.0",
      "model_name": "FloatSliderModel",
      "state": {
       "description": "p",
       "layout": "IPY_MODEL_d6aebc3552664896b4cdb6a2b99411ae",
       "max": 2,
       "min": 0.5,
       "step": 0.1,
       "style": "IPY_MODEL_82c531baf90b41f398aec4a8b4c385fc",
       "value": 1
      }
     },
     "9056467e99824d28add1b85ca318d844": {
      "model_module": "@jupyter-widgets/output",
      "model_module_version": "1.0.0",
      "model_name": "OutputModel",
      "state": {
       "layout": "IPY_MODEL_f78ca25fafd74a01a33b5c0d3a55cac8",
       "outputs": [
        {
         "name": "stdout",
         "output_type": "stream",
         "text": "lme =  0.20, wme = 1.12\n"
        },
        {
         "data": {
          "image/png": "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\n",
          "text/plain": "<Figure size 432x288 with 1 Axes>"
         },
         "metadata": {
          "needs_background": "light"
         },
         "output_type": "display_data"
        }
       ]
      }
     },
     "93f08ca781624b19920f841ddf481d9d": {
      "model_module": "@jupyter-widgets/controls",
      "model_module_version": "1.5.0",
      "model_name": "FloatSliderModel",
      "state": {
       "description": "b",
       "layout": "IPY_MODEL_e5c2ab689336401a8f25144ef462d9af",
       "max": 1.5,
       "min": -0.5,
       "step": 0.1,
       "style": "IPY_MODEL_816803e6422d4a41be7f5cd5f5a3ba73",
       "value": 0.5
      }
     },
     "984a2dabd3eb429ea9b6ffea993e3123": {
      "model_module": "@jupyter-widgets/controls",
      "model_module_version": "1.5.0",
      "model_name": "SliderStyleModel",
      "state": {
       "description_width": ""
      }
     },
     "995c634645b64ed3ba30a4702e8d7c9a": {
      "model_module": "@jupyter-widgets/controls",
      "model_module_version": "1.5.0",
      "model_name": "FloatSliderModel",
      "state": {
       "description": "te",
       "layout": "IPY_MODEL_7bcddae7ebdf45b4b1d1e2deffa1b0a3",
       "max": 1,
       "step": 0.1,
       "style": "IPY_MODEL_10091cf5fe054978bb0bd4088cabba7e"
      }
     },
     "9cb1182ba3114ecfa3b4d6e8c6b22bbe": {
      "model_module": "@jupyter-widgets/controls",
      "model_module_version": "1.5.0",
      "model_name": "VBoxModel",
      "state": {
       "_dom_classes": [
        "widget-interact"
       ],
       "children": [
        "IPY_MODEL_d110da7a94694993b16e1df8c31dc478",
        "IPY_MODEL_e475d842b9814bec83132c8c945b4a65",
        "IPY_MODEL_8fbd57ca4d184a8184981ae6e4c72ff4",
        "IPY_MODEL_e95a16fd222a4522aa02477e153f346f",
        "IPY_MODEL_52e3ea883ed3480e813ef996bece91e0",
        "IPY_MODEL_93f08ca781624b19920f841ddf481d9d",
        "IPY_MODEL_c2f3e5eba995438a8945e9999cc72e30",
        "IPY_MODEL_f242b9f448f84679814d68a9694de701"
       ],
       "layout": "IPY_MODEL_bff20d5fb5bb4bccb8ab94f2e5cd6703"
      }
     },
     "acdcd44f8fb046dc8f54d30fbf615e34": {
      "model_module": "@jupyter-widgets/controls",
      "model_module_version": "1.5.0",
      "model_name": "SliderStyleModel",
      "state": {
       "description_width": ""
      }
     },
     "b28f3dd889e145c29e3a4dc94659f03f": {
      "model_module": "@jupyter-widgets/controls",
      "model_module_version": "1.5.0",
      "model_name": "VBoxModel",
      "state": {
       "_dom_classes": [
        "widget-interact"
       ],
       "children": [
        "IPY_MODEL_fee4c20f6fc34254820944a036205c9b",
        "IPY_MODEL_fbc833d3e9c54798baf927005137b331",
        "IPY_MODEL_c236fe9ee66841dfac25f84f90bdf2fe",
        "IPY_MODEL_239c32963aec454686815259039ccd2c",
        "IPY_MODEL_7c0491789c3f4fed963e7dce83c4090e",
        "IPY_MODEL_ef9a045e90b24299b3ea5f404660d014",
        "IPY_MODEL_05707557794a4be1ac7863b43c82fa50",
        "IPY_MODEL_9056467e99824d28add1b85ca318d844"
       ],
       "layout": "IPY_MODEL_143ea558eea94afbbbf1ad467e674d2e"
      }
     },
     "b2fe5083f7134474adc73b88fb348e58": {
      "model_module": "@jupyter-widgets/base",
      "model_module_version": "1.2.0",
      "model_name": "LayoutModel",
      "state": {}
     },
     "b42c7616aabb4a5395b02cf8ea649fae": {
      "model_module": "@jupyter-widgets/controls",
      "model_module_version": "1.5.0",
      "model_name": "FloatSliderModel",
      "state": {
       "description": "a",
       "layout": "IPY_MODEL_832eb6e02acf4460ab9bf5895d687435",
       "max": 1.5,
       "min": -0.5,
       "step": 0.1,
       "style": "IPY_MODEL_d4752bd438224cdab5846c0bae4f5ecc",
       "value": 0.5
      }
     },
     "b85866efbafb460abe47dd7ca5333ee3": {
      "model_module": "@jupyter-widgets/controls",
      "model_module_version": "1.5.0",
      "model_name": "FloatSliderModel",
      "state": {
       "description": "tb",
       "layout": "IPY_MODEL_b2fe5083f7134474adc73b88fb348e58",
       "max": 2,
       "min": 0.5,
       "step": 0.1,
       "style": "IPY_MODEL_caa5851eb6d64a4db8ea85eb57fc37e2",
       "value": 1
      }
     },
     "ba137df9c44545c6a4b3d7662d79a6d4": {
      "model_module": "@jupyter-widgets/base",
      "model_module_version": "1.2.0",
      "model_name": "LayoutModel",
      "state": {}
     },
     "bff20d5fb5bb4bccb8ab94f2e5cd6703": {
      "model_module": "@jupyter-widgets/base",
      "model_module_version": "1.2.0",
      "model_name": "LayoutModel",
      "state": {}
     },
     "c03e0f7fc3d14e04ad76a536edc71b9f": {
      "model_module": "@jupyter-widgets/base",
      "model_module_version": "1.2.0",
      "model_name": "LayoutModel",
      "state": {}
     },
     "c236fe9ee66841dfac25f84f90bdf2fe": {
      "model_module": "@jupyter-widgets/controls",
      "model_module_version": "1.5.0",
      "model_name": "FloatSliderModel",
      "state": {
       "description": "p",
       "layout": "IPY_MODEL_c03e0f7fc3d14e04ad76a536edc71b9f",
       "max": 2,
       "min": 0.5,
       "step": 0.1,
       "style": "IPY_MODEL_874ea05b740241c7ac2fc4385293d31b",
       "value": 1
      }
     },
     "c2f3e5eba995438a8945e9999cc72e30": {
      "model_module": "@jupyter-widgets/controls",
      "model_module_version": "1.5.0",
      "model_name": "FloatSliderModel",
      "state": {
       "description": "tb",
       "layout": "IPY_MODEL_6bd1924ef67249c38122d50ddc8a300b",
       "max": 2,
       "min": 0.5,
       "step": 0.1,
       "style": "IPY_MODEL_4bc7e11f3214474694c2dc9edfd59359",
       "value": 1
      }
     },
     "caa5851eb6d64a4db8ea85eb57fc37e2": {
      "model_module": "@jupyter-widgets/controls",
      "model_module_version": "1.5.0",
      "model_name": "SliderStyleModel",
      "state": {
       "description_width": ""
      }
     },
     "d0ad33f00b4a408aa98e3825a6747bcf": {
      "model_module": "@jupyter-widgets/controls",
      "model_module_version": "1.5.0",
      "model_name": "SliderStyleModel",
      "state": {
       "description_width": ""
      }
     },
     "d110da7a94694993b16e1df8c31dc478": {
      "model_module": "@jupyter-widgets/controls",
      "model_module_version": "1.5.0",
      "model_name": "FloatSliderModel",
      "state": {
       "description": "te",
       "layout": "IPY_MODEL_8753c2bb688944cf9d73692a9a8ea22d",
       "max": 1,
       "step": 0.1,
       "style": "IPY_MODEL_d34ad337a2ef4582ac88a6897c9f9e45"
      }
     },
     "d34ad337a2ef4582ac88a6897c9f9e45": {
      "model_module": "@jupyter-widgets/controls",
      "model_module_version": "1.5.0",
      "model_name": "SliderStyleModel",
      "state": {
       "description_width": ""
      }
     },
     "d4752bd438224cdab5846c0bae4f5ecc": {
      "model_module": "@jupyter-widgets/controls",
      "model_module_version": "1.5.0",
      "model_name": "SliderStyleModel",
      "state": {
       "description_width": ""
      }
     },
     "d6aebc3552664896b4cdb6a2b99411ae": {
      "model_module": "@jupyter-widgets/base",
      "model_module_version": "1.2.0",
      "model_name": "LayoutModel",
      "state": {}
     },
     "d9f2472a42b3457ebdc4a478d7341909": {
      "model_module": "@jupyter-widgets/controls",
      "model_module_version": "1.5.0",
      "model_name": "FloatSliderModel",
      "state": {
       "description": "p",
       "layout": "IPY_MODEL_581841ecdd1e4ee6ad243d12c44b13de",
       "max": 2,
       "min": 0.5,
       "step": 0.1,
       "style": "IPY_MODEL_d0ad33f00b4a408aa98e3825a6747bcf",
       "value": 1
      }
     },
     "e3794844c9ba445b949c5d7dcd8ccb50": {
      "model_module": "@jupyter-widgets/base",
      "model_module_version": "1.2.0",
      "model_name": "LayoutModel",
      "state": {}
     },
     "e475d842b9814bec83132c8c945b4a65": {
      "model_module": "@jupyter-widgets/controls",
      "model_module_version": "1.5.0",
      "model_name": "FloatSliderModel",
      "state": {
       "description": "th",
       "layout": "IPY_MODEL_6ccab21a96694b918363082a07aab60b",
       "max": 3,
       "min": 0.9,
       "step": 0.1,
       "style": "IPY_MODEL_f14eabea5fb8409399bc4286d5e821a7",
       "value": 1.9
      }
     },
     "e5c2ab689336401a8f25144ef462d9af": {
      "model_module": "@jupyter-widgets/base",
      "model_module_version": "1.2.0",
      "model_name": "LayoutModel",
      "state": {}
     },
     "e95a16fd222a4522aa02477e153f346f": {
      "model_module": "@jupyter-widgets/controls",
      "model_module_version": "1.5.0",
      "model_name": "IntSliderModel",
      "state": {
       "description": "kb",
       "layout": "IPY_MODEL_eda50b848b42413dbaa4e2c006013c29",
       "max": 3,
       "min": -1,
       "style": "IPY_MODEL_16fc344488ca4f41a90f71e3a953215d",
       "value": 1
      }
     },
     "eda50b848b42413dbaa4e2c006013c29": {
      "model_module": "@jupyter-widgets/base",
      "model_module_version": "1.2.0",
      "model_name": "LayoutModel",
      "state": {}
     },
     "ef9a045e90b24299b3ea5f404660d014": {
      "model_module": "@jupyter-widgets/controls",
      "model_module_version": "1.5.0",
      "model_name": "FloatSliderModel",
      "state": {
       "description": "b",
       "layout": "IPY_MODEL_3cc2f992abc74ed3a1ae4e4411979ddb",
       "max": 1.5,
       "min": -0.5,
       "step": 0.1,
       "style": "IPY_MODEL_fdcc852dd6ae4f5391e0300bbba47c5c",
       "value": 0.5
      }
     },
     "efb9ae1520ad4673a662808979d82273": {
      "model_module": "@jupyter-widgets/base",
      "model_module_version": "1.2.0",
      "model_name": "LayoutModel",
      "state": {}
     },
     "f05d295e3aab4d3da404f3ab4b9c8bfe": {
      "model_module": "@jupyter-widgets/base",
      "model_module_version": "1.2.0",
      "model_name": "LayoutModel",
      "state": {}
     },
     "f14eabea5fb8409399bc4286d5e821a7": {
      "model_module": "@jupyter-widgets/controls",
      "model_module_version": "1.5.0",
      "model_name": "SliderStyleModel",
      "state": {
       "description_width": ""
      }
     },
     "f242b9f448f84679814d68a9694de701": {
      "model_module": "@jupyter-widgets/output",
      "model_module_version": "1.0.0",
      "model_name": "OutputModel",
      "state": {
       "layout": "IPY_MODEL_fcea216021554fac942c3b44af697460",
       "outputs": [
        {
         "name": "stdout",
         "output_type": "stream",
         "text": "lme =  0.20, wme = 1.12\n"
        },
        {
         "data": {
          "image/png": "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\n",
          "text/plain": "<Figure size 432x288 with 1 Axes>"
         },
         "metadata": {
          "needs_background": "light"
         },
         "output_type": "display_data"
        }
       ]
      }
     },
     "f78ca25fafd74a01a33b5c0d3a55cac8": {
      "model_module": "@jupyter-widgets/base",
      "model_module_version": "1.2.0",
      "model_name": "LayoutModel",
      "state": {}
     },
     "fbc833d3e9c54798baf927005137b331": {
      "model_module": "@jupyter-widgets/controls",
      "model_module_version": "1.5.0",
      "model_name": "FloatSliderModel",
      "state": {
       "description": "th",
       "layout": "IPY_MODEL_24d8ac5bb3be4796bfa176db7fc4c820",
       "max": 3,
       "min": 0.9,
       "step": 0.1,
       "style": "IPY_MODEL_78bf688276524c16a695955af25064af",
       "value": 1
      }
     },
     "fcea216021554fac942c3b44af697460": {
      "model_module": "@jupyter-widgets/base",
      "model_module_version": "1.2.0",
      "model_name": "LayoutModel",
      "state": {}
     },
     "fdcc852dd6ae4f5391e0300bbba47c5c": {
      "model_module": "@jupyter-widgets/controls",
      "model_module_version": "1.5.0",
      "model_name": "SliderStyleModel",
      "state": {
       "description_width": ""
      }
     },
     "fee4c20f6fc34254820944a036205c9b": {
      "model_module": "@jupyter-widgets/controls",
      "model_module_version": "1.5.0",
      "model_name": "FloatSliderModel",
      "state": {
       "description": "te",
       "layout": "IPY_MODEL_f05d295e3aab4d3da404f3ab4b9c8bfe",
       "max": 1,
       "step": 0.1,
       "style": "IPY_MODEL_823073e5450f4b6d85d3a5d9cec340bc"
      }
     }
    },
    "version_major": 2,
    "version_minor": 0
   }
  }
 },
 "nbformat": 4,
 "nbformat_minor": 4
}
